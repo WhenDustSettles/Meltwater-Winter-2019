{
 "cells": [
  {
   "cell_type": "markdown",
   "metadata": {},
   "source": [
    "# $\\verb|OYO Rooms|$ reviews on $\\verb|Booking.com|$."
   ]
  },
  {
   "cell_type": "code",
   "execution_count": 1,
   "metadata": {},
   "outputs": [],
   "source": [
    "from selenium import webdriver\n",
    "from parsel import Selector\n",
    "import csv\n",
    "import time\n",
    "import pandas as pd\n",
    "import numpy as np\n"
   ]
  },
  {
   "cell_type": "code",
   "execution_count": 2,
   "metadata": {},
   "outputs": [
    {
     "data": {
      "text/plain": [
       "'/home/animesh/Meltwater Winter 2019/Web Scraping Tasks/OYO Rooms Reviews/Booking.com'"
      ]
     },
     "execution_count": 2,
     "metadata": {},
     "output_type": "execute_result"
    }
   ],
   "source": [
    "pwd"
   ]
  },
  {
   "cell_type": "markdown",
   "metadata": {},
   "source": [
    "We'll first extract all $\\verb|hotels|$ links"
   ]
  },
  {
   "cell_type": "markdown",
   "metadata": {},
   "source": [
    "## 1. Understanding the webpage structure."
   ]
  },
  {
   "cell_type": "code",
   "execution_count": 7,
   "metadata": {},
   "outputs": [],
   "source": [
    "driver = webdriver.Chrome('/home/animesh/Meltwater Winter 2019/Web Scraping Tasks/OYO Rooms Reviews/Booking.com/chromedriver')"
   ]
  },
  {
   "cell_type": "code",
   "execution_count": 8,
   "metadata": {},
   "outputs": [],
   "source": [
    "driver.get('https://www.booking.com/searchresults.html?aid=304142&label=gen173nr-1DCBkoggI46AdIM1gEaGyIAQGYATG4ARnIAQzYAQPoAQH4AQKIAgGoAgO4AvqTt-8FwAIB&sid=ee6d9ca2a23329d71875e6ecc52181e2&tmpl=searchresults&ac_click_type=b&ac_position=0&city=-2601889&class_interval=1&dest_id=98&dest_type=country&dtdisc=0&from_sf=1&group_adults=2&group_children=0&inac=0&index_postcard=0&label_click=undef&no_rooms=1&postcard=0&raw_dest_type=country&room1=A%2CA&sb_price_type=total&search_selected=1&shw_aparth=1&slp_r_match=0&src=searchresults&srpvid=b42f278f07680054&ss=India&ss_all=0&ss_raw=India&ssb=empty&sshis=0&ssne=London&ssne_untouched=London&top_ufis=1&nflt=chaincode%3D6015%3B&rsf=')"
   ]
  },
  {
   "cell_type": "code",
   "execution_count": 9,
   "metadata": {},
   "outputs": [],
   "source": [
    "sel = Selector(text=driver.page_source)"
   ]
  },
  {
   "cell_type": "markdown",
   "metadata": {},
   "source": [
    "### 1.1. XPaths for the various hotels."
   ]
  },
  {
   "cell_type": "code",
   "execution_count": 26,
   "metadata": {},
   "outputs": [
    {
     "data": {
      "text/plain": [
       "['\\n/hotel/in/the-city-square.en-gb.html?aid=304142&label=gen173nr-1FCBkoggI46AdIM1gEaGyIAQGYATG4ARnIAQzYAQHoAQH4AQKIAgGoAgO4AvqTt-8FwAIB&sid=c2828360f27bfe1de2b178a0b8569191&dest_id=98&dest_type=country&group_adults=2&group_children=0&hapos=1&hpos=1&nflt=chaincode%3D6015%3B&no_rooms=1&sr_order=popularity&srepoch=1575871606&srpvid=1d282afa24ca005c&ucfs=1&from=searchresults\\n;highlight_room=#hotelTmpl']"
      ]
     },
     "execution_count": 26,
     "metadata": {},
     "output_type": "execute_result"
    }
   ],
   "source": [
    "sel.xpath(\"/html/body/div[3]/div/div[3]/div[2]/div[1]/div[8]/div[3]/div[1]/div/div[2]/div[2]/div[1]/div[1]/div[1]/h3/a/attribute::href\").extract()"
   ]
  },
  {
   "cell_type": "code",
   "execution_count": 34,
   "metadata": {},
   "outputs": [],
   "source": [
    "link = sel.xpath(\"/html/body/div[3]/div/div[3]/div[2]/div[1]/div[8]/div[3]/div[1]/div/div[4]/div[2]/div[1]/div[1]/div[1]/h3/a/attribute::href\").extract()[0]"
   ]
  },
  {
   "cell_type": "markdown",
   "metadata": {},
   "source": [
    "##### Clearly, one will notice that there is no simple structure to the XPaths to various hotel links. Thus we brute force it by the good ol' $\\verb|try & except|$ (Check next section)."
   ]
  },
  {
   "cell_type": "code",
   "execution_count": 36,
   "metadata": {},
   "outputs": [
    {
     "data": {
      "text/plain": [
       "'booking.com/hotel/in/hanas-haven.en-gb.html?aid=304142&label=gen173nr-1FCBkoggI46AdIM1gEaGyIAQGYATG4ARnIAQzYAQHoAQH4AQKIAgGoAgO4AvqTt-8FwAIB&sid=c2828360f27bfe1de2b178a0b8569191&dest_id=98&dest_type=country&group_adults=2&group_children=0&hapos=2&hpos=2&nflt=chaincode%3D6015%3B&no_rooms=1&sr_order=popularity&srepoch=1575871606&srpvid=1d282afa24ca005c&ucfs=1&from=searchresults;highlight_room=#hotelTmpl'"
      ]
     },
     "execution_count": 36,
     "metadata": {},
     "output_type": "execute_result"
    }
   ],
   "source": [
    "link = 'booking.com' + link.replace('\\n','')\n",
    "link"
   ]
  },
  {
   "cell_type": "markdown",
   "metadata": {},
   "source": [
    "### 1.2. Accessing the $\\verb|next page|$ button "
   ]
  },
  {
   "cell_type": "code",
   "execution_count": 40,
   "metadata": {},
   "outputs": [],
   "source": [
    "next_page_xpath = \"/html/body/div[3]/div/div[3]/div[2]/div[1]/div[8]/div[3]/div[4]/nav/ul/li[3]/a\"\n",
    "next_page_button = driver.find_element_by_xpath(next_page_xpath)\n",
    "next_page_button.click()"
   ]
  },
  {
   "cell_type": "markdown",
   "metadata": {},
   "source": [
    "## 2. Collecting all the Hotels credited with $\\verb|OYO Rooms|$."
   ]
  },
  {
   "cell_type": "markdown",
   "metadata": {},
   "source": [
    "Since there is some bug during change of page (as the page format keeps changing from one page to another), that task will be done manually."
   ]
  },
  {
   "cell_type": "code",
   "execution_count": 161,
   "metadata": {},
   "outputs": [],
   "source": [
    "driver = webdriver.Chrome('/home/animesh/Meltwater Winter 2019/Web Scraping Tasks/OYO Rooms Reviews/Booking.com/chromedriver')\n",
    "\n",
    "driver.get('https://www.booking.com/searchresults.html?aid=304142&label=gen173nr-1DCBkoggI46AdIM1gEaGyIAQGYATG4ARnIAQzYAQPoAQH4AQKIAgGoAgO4AvqTt-8FwAIB&sid=ee6d9ca2a23329d71875e6ecc52181e2&tmpl=searchresults&ac_click_type=b&ac_position=0&city=-2601889&class_interval=1&dest_id=98&dest_type=country&dtdisc=0&from_sf=1&group_adults=2&group_children=0&inac=0&index_postcard=0&label_click=undef&nflt=chaincode%3D6015%3B&no_rooms=1&postcard=0&raw_dest_type=country&room1=A%2CA&sb_price_type=total&search_selected=1&shw_aparth=1&slp_r_match=0&src=searchresults&srpvid=3ab731d26a38002f&ss=India&ss_all=0&ss_raw=India&ssb=empty&sshis=0&ssne=London&ssne_untouched=London&top_ufis=1&track_hp_back_button=1&rows=25')"
   ]
  },
  {
   "cell_type": "code",
   "execution_count": 162,
   "metadata": {},
   "outputs": [],
   "source": [
    "links = []"
   ]
  },
  {
   "cell_type": "markdown",
   "metadata": {},
   "source": [
    "Run above two cells once and then keep executing the cell below (optionally also the cell after it to get a sitrep) on each new page."
   ]
  },
  {
   "cell_type": "code",
   "execution_count": 195,
   "metadata": {},
   "outputs": [],
   "source": [
    "\n",
    "#links = []\n",
    "\n",
    "time.sleep(2)\n",
    "\n",
    "#next_page_xpath = \"/html/body/div[3]/div/div[3]/div[2]/div[1]/div[6]/div[3]/div[4]/nav/ul/li[3]/a\"\n",
    "#next_page_xpath = \"/html/body/div[3]/div/div[3]/div[2]/div[1]/div[6]/div[3]/div[4]/nav/ul/li[3]/a\"\n",
    "#next_page_button = driver.find_element_by_xpath(next_page_xpath)\n",
    "\n",
    "    \n",
    "sel = Selector(text=driver.page_source)\n",
    "\n",
    "for i in range(1,60,1): #60 is just estimation of the number of articles which are there*2 \n",
    "    gen_link_xpath = \"/html/body/div[3]/div/div[3]/div[2]/div[1]/div[7]/div[3]/div[1]/div/div[{}]/div[2]/div[1]/div[1]/div[1]/h3/a/attribute::href\"\n",
    "    \n",
    "    try:\n",
    "        link = 'booking.com' + sel.xpath(gen_link_xpath.format(i)).extract()[0].replace('\\n','')\n",
    "        links.append(link)\n",
    "\n",
    "    except:\n",
    "        continue\n",
    "    \n",
    "    #time.sleep(2)\n",
    "    #next_page_button = driver.find_element_by_xpath(next_page_xpath)\n",
    "    #next_page_button.click()\n",
    "    #TODO: Repeat the above on the next page.\n",
    "\n"
   ]
  },
  {
   "cell_type": "code",
   "execution_count": 196,
   "metadata": {},
   "outputs": [
    {
     "data": {
      "text/plain": [
       "400"
      ]
     },
     "execution_count": 196,
     "metadata": {},
     "output_type": "execute_result"
    }
   ],
   "source": [
    "len(links)"
   ]
  },
  {
   "cell_type": "code",
   "execution_count": 197,
   "metadata": {},
   "outputs": [],
   "source": [
    "pd.DataFrame(links).to_csv(\"OYO_Hotel_links.csv\")"
   ]
  },
  {
   "cell_type": "markdown",
   "metadata": {},
   "source": [
    "## 3. Extracting Review from the above Extracted links"
   ]
  },
  {
   "cell_type": "code",
   "execution_count": 3,
   "metadata": {},
   "outputs": [],
   "source": [
    "hotels = pd.read_csv(\"OYO_Hotel_links.csv\")\n",
    "hotels.drop(\"Unnamed: 0\",axis = 1,inplace = True)\n",
    "hotels.rename(columns = {'0':\"Links\"}, inplace = True)"
   ]
  },
  {
   "cell_type": "code",
   "execution_count": 4,
   "metadata": {},
   "outputs": [
    {
     "data": {
      "text/html": [
       "<div>\n",
       "<style scoped>\n",
       "    .dataframe tbody tr th:only-of-type {\n",
       "        vertical-align: middle;\n",
       "    }\n",
       "\n",
       "    .dataframe tbody tr th {\n",
       "        vertical-align: top;\n",
       "    }\n",
       "\n",
       "    .dataframe thead th {\n",
       "        text-align: right;\n",
       "    }\n",
       "</style>\n",
       "<table border=\"1\" class=\"dataframe\">\n",
       "  <thead>\n",
       "    <tr style=\"text-align: right;\">\n",
       "      <th></th>\n",
       "      <th>Links</th>\n",
       "    </tr>\n",
       "  </thead>\n",
       "  <tbody>\n",
       "    <tr>\n",
       "      <td>0</td>\n",
       "      <td>booking.com/hotel/in/oyo-14182-home-beach-side...</td>\n",
       "    </tr>\n",
       "    <tr>\n",
       "      <td>1</td>\n",
       "      <td>booking.com/hotel/in/oyo-home-9623-5-bhk-villa...</td>\n",
       "    </tr>\n",
       "    <tr>\n",
       "      <td>2</td>\n",
       "      <td>booking.com/hotel/in/oyo-24176-home-sea-view-s...</td>\n",
       "    </tr>\n",
       "    <tr>\n",
       "      <td>3</td>\n",
       "      <td>booking.com/hotel/in/oyo-18661-home-field-view...</td>\n",
       "    </tr>\n",
       "    <tr>\n",
       "      <td>4</td>\n",
       "      <td>booking.com/hotel/in/oyo-home-35520-exotic-far...</td>\n",
       "    </tr>\n",
       "    <tr>\n",
       "      <td>...</td>\n",
       "      <td>...</td>\n",
       "    </tr>\n",
       "    <tr>\n",
       "      <td>395</td>\n",
       "      <td>booking.com/hotel/in/oyo-home-40131-sea-view-s...</td>\n",
       "    </tr>\n",
       "    <tr>\n",
       "      <td>396</td>\n",
       "      <td>booking.com/hotel/in/oyo-home-29163-exotic-3bh...</td>\n",
       "    </tr>\n",
       "    <tr>\n",
       "      <td>397</td>\n",
       "      <td>booking.com/hotel/in/oyo-22104-home-graceful-3...</td>\n",
       "    </tr>\n",
       "    <tr>\n",
       "      <td>398</td>\n",
       "      <td>booking.com/hotel/in/oyo-home-39672-royal-spac...</td>\n",
       "    </tr>\n",
       "    <tr>\n",
       "      <td>399</td>\n",
       "      <td>booking.com/hotel/in/oyo-25046-the-orient-taj-...</td>\n",
       "    </tr>\n",
       "  </tbody>\n",
       "</table>\n",
       "<p>400 rows × 1 columns</p>\n",
       "</div>"
      ],
      "text/plain": [
       "                                                 Links\n",
       "0    booking.com/hotel/in/oyo-14182-home-beach-side...\n",
       "1    booking.com/hotel/in/oyo-home-9623-5-bhk-villa...\n",
       "2    booking.com/hotel/in/oyo-24176-home-sea-view-s...\n",
       "3    booking.com/hotel/in/oyo-18661-home-field-view...\n",
       "4    booking.com/hotel/in/oyo-home-35520-exotic-far...\n",
       "..                                                 ...\n",
       "395  booking.com/hotel/in/oyo-home-40131-sea-view-s...\n",
       "396  booking.com/hotel/in/oyo-home-29163-exotic-3bh...\n",
       "397  booking.com/hotel/in/oyo-22104-home-graceful-3...\n",
       "398  booking.com/hotel/in/oyo-home-39672-royal-spac...\n",
       "399  booking.com/hotel/in/oyo-25046-the-orient-taj-...\n",
       "\n",
       "[400 rows x 1 columns]"
      ]
     },
     "execution_count": 4,
     "metadata": {},
     "output_type": "execute_result"
    }
   ],
   "source": [
    "hotels"
   ]
  },
  {
   "cell_type": "code",
   "execution_count": 5,
   "metadata": {},
   "outputs": [
    {
     "data": {
      "text/plain": [
       "'booking.com/hotel/in/oyo-14182-home-beach-side-1bhk-ashwem-goa123.en-gb.html?aid=304142&label=gen173nr-1FCBkoggI46AdIM1gEaGyIAQGYATG4ARnIAQzYAQHoAQH4AQKIAgGoAgO4AvqTt-8FwAIB&sid=34f63f84d9d0ab8da5f5c0aae2ccc09c&dest_id=98&dest_type=country&group_adults=2&group_children=0&hapos=1&hpos=1&nflt=chaincode%3D6015%3B&no_rooms=1&sr_order=popularity&srepoch=1575882748&srpvid=768240beeb1b0091&ucfs=1&from=searchresults;highlight_room=#hotelTmpl'"
      ]
     },
     "execution_count": 5,
     "metadata": {},
     "output_type": "execute_result"
    }
   ],
   "source": [
    "hotels['Links'].iloc[0]"
   ]
  },
  {
   "cell_type": "markdown",
   "metadata": {},
   "source": [
    "#### XPaths for various features:-"
   ]
  },
  {
   "cell_type": "code",
   "execution_count": 267,
   "metadata": {},
   "outputs": [],
   "source": [
    "#-1.\n",
    "guest_reviews = \"/html/body/div[3]/div/div[5]/div[1]/div[1]/div[2]/ul/li[5]/a\"\n",
    "\n",
    "guest_reviews_aliter = '/html/body/div[3]/div/div[5]/div[1]/div[1]/div[2]/ul/li[4]/a'\n",
    "\n",
    "\n",
    "#0.\n",
    "\n",
    "tot_reviews_num = \"/html/body/div[3]/div/div[5]/div[1]/div[1]/div[2]/ul/li[5]/a/span/text()\"\n",
    "                  \n",
    "                                                                        #  ^ This will be either 4 or 5, 4 usually when browser's in windowed mode.\n",
    "tot_reviews_num_aliter = \"/html/body/div[3]/div/div[5]/div[1]/div[1]/div[2]/ul/li[4]/a/span/text()\"\n",
    "                         \n",
    "#1.                      \n",
    "name_xpath =  \"/html/body/div[3]/div/div[5]/div[1]/div[1]/div[7]/div/div[1]/div[2]/div[2]/div[4]/div[3]/ul/li[{}]/div/div[2]/div/div[1]/div/div[2]/span[1]//text()\"\n",
    "              \n",
    "name_xpath_aliter =  '/html/body/div[3]/div/div[5]/div[1]/div[1]/div[7]/div/div[1]/div[2]/div/div[4]/div[2]/ul/li[{}]/div/div[2]/div/div[1]/div/div[2]/span[1]//text()'\n",
    "                     \n",
    "#2.                                                         # ^ This is either 7 or 8 (and for all subsequent xpaths), reason possibly being same as above.\n",
    "country_xpath = \"/html/body/div[3]/div/div[5]/div[1]/div[1]/div[7]/div/div[1]/div[2]/div[2]/div[4]/div[3]/ul/li[{}]/div/div[2]/div/div[1]/div/div[2]/span[2]/text()\"\n",
    "\n",
    "country_xpath_aliter = \"/html/body/div[3]/div/div[5]/div[1]/div[1]/div[7]/div/div[1]/div[2]/div/div[4]/div[2]/ul/li[{}]/div/div[2]/div/div[1]/div/div[2]/span[2]/text()\"\n",
    "\n",
    "#3.\n",
    "rating_xpath = \"/html/body/div[3]/div/div[5]/div[1]/div[1]/div[7]/div/div[1]/div[2]/div[2]/div[4]/div[3]/ul/li[{}]/div/div[2]/div/div[2]/div/div//text()\"\n",
    "\n",
    "rating_xpath_aliter = \"/html/body/div[3]/div/div[5]/div[1]/div[1]/div[7]/div/div[1]/div[2]/div/div[4]/div[2]/ul/li[{}]/div/div[2]/div/div[2]/div/div//text()\"\n",
    "\n",
    "#4.\n",
    "summary_xpaths = [\"/html/body/div[3]/div/div[5]/div[1]/div[1]/div[7]/div/div[1]/div[2]/div[2]/div[4]/div[3]/ul/li[{}]/div/div[3]/h3//text()\",\n",
    "                \"/html/body/div[3]/div/div[5]/div[1]/div[1]/div[7]/div/div[1]/div[2]/div[2]/div[4]/div[3]/ul/li[{}]/div/div[4]/div/div/p/span[3]\"]\n",
    "summary_xpath_aliter = \"/html/body/div[3]/div/div[5]/div[1]/div[1]/div[7]/div/div[1]/div[2]/div/div[4]/div[2]/ul/li[{}]/div/div[3]/h3//text()\"\n",
    "\n",
    "#5.\n",
    "review_xpath = \"/html/body/div[3]/div/div[5]/div[1]/div[1]/div[7]/div/div[1]/div[2]/div[2]/div[4]/div[3]/ul/li[{}]/div/div[4]/div/div[1]/p/span[3]//text()\"\n",
    "               \n",
    "review_xpath_aliter = \"/html/body/div[3]/div/div[5]/div[1]/div[1]/div[7]/div/div[1]/div[2]/div/div[4]/div[2]/ul/li[{}]/div/div[4]/div/div/p/span[3]//text()\""
   ]
  },
  {
   "cell_type": "code",
   "execution_count": 17,
   "metadata": {},
   "outputs": [],
   "source": [
    "#driver = webdriver.Chrome('/home/animesh/Meltwater Winter 2019/Web Scraping Tasks/OYO Rooms Reviews/Booking.com/chromedriver')\n",
    "driver.get('https://www.' + hotels['Links'].iloc[12])"
   ]
  },
  {
   "cell_type": "code",
   "execution_count": 18,
   "metadata": {},
   "outputs": [],
   "source": [
    "sel = Selector(text=driver.page_source)"
   ]
  },
  {
   "cell_type": "code",
   "execution_count": 19,
   "metadata": {},
   "outputs": [
    {
     "data": {
      "text/plain": [
       "'Ganesh'"
      ]
     },
     "execution_count": 19,
     "metadata": {},
     "output_type": "execute_result"
    }
   ],
   "source": [
    "sel.xpath(name_xpath.format(1)).extract()[0]"
   ]
  },
  {
   "cell_type": "code",
   "execution_count": 20,
   "metadata": {},
   "outputs": [
    {
     "data": {
      "text/plain": [
       "'India'"
      ]
     },
     "execution_count": 20,
     "metadata": {},
     "output_type": "execute_result"
    }
   ],
   "source": [
    "sel.xpath(country_xpath.format(1)).extract()[0]"
   ]
  },
  {
   "cell_type": "code",
   "execution_count": 39,
   "metadata": {},
   "outputs": [
    {
     "data": {
      "text/plain": [
       "'8.0'"
      ]
     },
     "execution_count": 39,
     "metadata": {},
     "output_type": "execute_result"
    }
   ],
   "source": [
    "sel.xpath(rating_xpath.format(10)).extract()[0].split()[0] # added split to cut down the spaces."
   ]
  },
  {
   "cell_type": "code",
   "execution_count": 22,
   "metadata": {},
   "outputs": [
    {
     "data": {
      "text/plain": [
       "'Exceptional'"
      ]
     },
     "execution_count": 22,
     "metadata": {},
     "output_type": "execute_result"
    }
   ],
   "source": [
    "sel.xpath(summary_xpath.format(1)).extract()[0].replace('\\n','')"
   ]
  },
  {
   "cell_type": "code",
   "execution_count": 37,
   "metadata": {},
   "outputs": [
    {
     "data": {
      "text/plain": [
       "'- During the day at the reception there is always someone English speaking. (Not at night though)\\n- AC and Fan work fine.\\n- Clean.  \\nCheck-Out:\\nOne hour before checkout we got a call from reception, asking if we are planning to checkout or extend our stay. That was a nice thoughtfullness. The checkout went smoothly. \\nIt was nice that we were able to leave our luggage at the hotel in an extra room until we were ready to leave for the airport (no additional costs).'"
      ]
     },
     "execution_count": 37,
     "metadata": {},
     "output_type": "execute_result"
    }
   ],
   "source": [
    "sel.xpath(review_xpath.format(10)).extract()[0]"
   ]
  },
  {
   "cell_type": "code",
   "execution_count": 24,
   "metadata": {},
   "outputs": [
    {
     "data": {
      "text/plain": [
       "215"
      ]
     },
     "execution_count": 24,
     "metadata": {},
     "output_type": "execute_result"
    }
   ],
   "source": [
    "int(sel.xpath(tot_reviews_num_aliter).extract()[-1].split()[0].replace('(','').replace(')',''))"
   ]
  },
  {
   "cell_type": "code",
   "execution_count": 314,
   "metadata": {},
   "outputs": [],
   "source": [
    "def review_extractor(driver,link):\n",
    "    \"\"\"\n",
    "    PLEASE LET THE ChromeDriver LOAD THE WEBPAGE COMPLETELY. (That's why there are sleeps)\n",
    "    Otherwise, it won't work AT ALL.\n",
    "    \"\"\"\n",
    "    \n",
    "    driver.get(link)\n",
    "    \n",
    "    sel = Selector(text=driver.page_source)\n",
    "    \n",
    "    time.sleep(2)\n",
    "    \n",
    "    \n",
    "    \n",
    "    try:\n",
    "        total_reviews = int(sel.xpath(tot_reviews_num).extract()[-1].split()[0].replace('(','').replace(')',''))\n",
    "    except:\n",
    "        try:\n",
    "            total_reviews = int(sel.xpath(tot_reviews_num_aliter).extract()[-1].split()[0].replace('(','').replace(')',''))\n",
    "        except:\n",
    "            total_reviews = 0\n",
    "            \n",
    "        \n",
    "    if total_reviews > 10:   #I'm Sorry but I can't help it.\n",
    "        total_reviews = 10\n",
    "\n",
    "        \n",
    "        \n",
    "        \n",
    "    time.sleep(2)\n",
    "\n",
    "    try:\n",
    "        review_button = driver.find_element_by_xpath(guest_reviews)\n",
    "    except:\n",
    "        review_button = driver.find_element_by_xpath(guest_reviews_aliter)\n",
    "\n",
    "    review_button.click()                        \n",
    "    \n",
    "    \n",
    "    if total_reviews > 10:\n",
    "        time.sleep(6)\n",
    "    else:\n",
    "        time.sleep(3)\n",
    "    \n",
    "    sel = Selector(text = driver.page_source)\n",
    "   \n",
    "    names,countries,ratings,summaries,reviews = [],[],[],[],[]\n",
    "    summary = ''\n",
    "    \n",
    "    print(\"Total Reviews on this link: {}\".format(total_reviews))\n",
    "    \n",
    "    \n",
    "    for i in range(1,total_reviews+1):\n",
    "        \n",
    "        if total_reviews == 0:\n",
    "            name = 'NaN'\n",
    "            country = 'NaN'\n",
    "            rating = 'NaN'\n",
    "            summary = 'NaN'\n",
    "            review = 'NaN'\n",
    "        try:\n",
    "            name = sel.xpath(name_xpath.format(i)).extract()[0]\n",
    "        except:\n",
    "            name = sel.xpath(name_xpath_aliter.format(i)).extract()[0] \n",
    "        \n",
    "        \n",
    "        try:\n",
    "            country = sel.xpath(country_xpath.format(i)).extract()[0]\n",
    "        except:\n",
    "            country = sel.xpath(country_xpath_aliter.format(i)).extract()[0]\n",
    "            \n",
    "            \n",
    "        try:\n",
    "            rating = sel.xpath(rating_xpath.format(i)).extract()[0].split()[0]\n",
    "        except:\n",
    "            rating = sel.xpath(rating_xpath_aliter.format(i)).extract()[0].split()[0]\n",
    "        \n",
    "        \n",
    "        try:\n",
    "            try:\n",
    "                summary = sel.xpath(summary_xpaths[0].format(i)).extract()[0].replace('\\n','')\n",
    "            except:\n",
    "                try:                                                                                              #Don't worry, I did tried a loop, it didn't worked, and\n",
    "                    summary = sel.xpath(summary_xpaths[1].format(i)).extract()[0].replace('\\n','')                #i am quite late in this project already.\n",
    "                except:                                                                                         \n",
    "                    summary = sel.xpath(summary_xpath_aliter.format(i)).extract()[0].replace('\\n','') \n",
    "        except:\n",
    "            #still\n",
    "            summary = 'No Summary'\n",
    "                      \n",
    "                      \n",
    "        try:\n",
    "            review = sel.xpath(review_xpath.format(i)).extract()[0]\n",
    "        except:\n",
    "            try:\n",
    "                review = sel.xpath(review_xpath_aliter.format(i)).extract()[0]\n",
    "            except:\n",
    "                review = 'No Review Given'               \n",
    "        names.append(name)\n",
    "        countries.append(country)\n",
    "        ratings.append(rating)\n",
    "        summaries.append(summary)\n",
    "        reviews.append(review)\n",
    "    \n",
    "    df = pd.DataFrame(np.c_[names,countries, ratings, summaries, reviews],columns = ['Name','Country','Rating given','Summary','Review'])\n",
    "    \n",
    "    return df\n",
    "    \n",
    "    \n",
    "        "
   ]
  },
  {
   "cell_type": "code",
   "execution_count": 65,
   "metadata": {},
   "outputs": [
    {
     "name": "stdout",
     "output_type": "stream",
     "text": [
      "2\n"
     ]
    }
   ],
   "source": [
    "#driver = webdriver.Chrome('/home/animesh/Meltwater Winter 2019/Web Scraping Tasks/OYO Rooms Reviews/Booking.com/chromedriver')\n",
    "pre_final_df = review_extractor(driver, 'https://www.' + hotels['Links'].iloc[9])"
   ]
  },
  {
   "cell_type": "code",
   "execution_count": 315,
   "metadata": {},
   "outputs": [],
   "source": [
    "def get_reviews_bookingdotcom(hotel_links):\n",
    "        \n",
    "    '''\n",
    "    hotel_links: Pass a 1D list of links to scrape through\n",
    "    '''\n",
    "    \n",
    "    driver = webdriver.Chrome('/home/animesh/Meltwater Winter 2019/Web Scraping Tasks/OYO Rooms Reviews/Booking.com/chromedriver')\n",
    "    \n",
    "    full_df = pd.DataFrame()\n",
    "    \n",
    "    for i,link in enumerate(hotel_links):\n",
    "        \n",
    "        hotel_name = link[21:21+link[21:].index('.')]\n",
    "        \n",
    "        error = False\n",
    "        if error == False:\n",
    "            try:\n",
    "                df = review_extractor(driver, 'https://www.' + link)\n",
    "            except:\n",
    "                print(\"Error in Review Extractor on link {} of this batch\".format(i+1))\n",
    "                return full_df\n",
    "        else:\n",
    "            df = review_extractor(driver, 'https://www.' + link)\n",
    "        \n",
    "        df[\"Hotel Name\"] = hotel_name\n",
    "        col = list(df.columns)\n",
    "        correct_order = [col[-1]]\n",
    "        correct_order.extend(col[:-1])\n",
    "        df = df[correct_order]\n",
    "        \n",
    "        full_df = full_df.append(df,ignore_index= True)\n",
    "        \n",
    "    return full_df"
   ]
  },
  {
   "cell_type": "code",
   "execution_count": 212,
   "metadata": {},
   "outputs": [
    {
     "name": "stdout",
     "output_type": "stream",
     "text": [
      "9\n",
      "2\n",
      "10\n",
      "2\n"
     ]
    }
   ],
   "source": [
    "FF_DF = get_reviews_bookingdotcom(  list(hotels.values.reshape(-1,))[:4]  )"
   ]
  },
  {
   "cell_type": "code",
   "execution_count": 245,
   "metadata": {},
   "outputs": [],
   "source": [
    "FF_DF.to_csv('OYO_Hotel_Reviews_0_4.csv')"
   ]
  },
  {
   "cell_type": "code",
   "execution_count": 242,
   "metadata": {},
   "outputs": [],
   "source": [
    "def batch_review_extractor(hotel_links ,frac_batches = 0.1, ATSOeB = True):\n",
    "    \n",
    "    '''\n",
    "    Scrape Links in Batches.\n",
    "    \n",
    "    ATSOB : Ask To Stop On Batch\n",
    "    \n",
    "    Also, please note that it also returns the info where it stopped.\n",
    "    '''\n",
    "    \n",
    "    num_rev = int(len(hotel_links)*frac_batches)\n",
    "    \n",
    "    FFF_df = pd.DataFrame()\n",
    "    \n",
    "    start = 0\n",
    "    end = num_rev\n",
    "    \n",
    "    \n",
    "    print(\"Total Batches = {}\".format(int(1/frac_batches)))\n",
    "    \n",
    "    \n",
    "    for i in range(int(1/frac_batches)):\n",
    "        \n",
    "        print(\"On BATCH: {}\\n\".format(i+1))\n",
    "        \n",
    "        try:\n",
    "            FFF_DF = FFF_df.append(get_reviews_bookingdotcom(hotel_links[start:end])) \n",
    "        except:\n",
    "            print(\"Error! Please check 'get_reviews_bookingdotcom' method, And Don't forget to save the reviews scraped yet. \")\n",
    "            return FFF_df,(i,start,end)\n",
    "        \n",
    "        \n",
    "        if ATSOeB:\n",
    "            print(\"\\nBatch: {}\".format(i+1))\n",
    "            print(\"Start: {} | End: {} \".format(start,end),end='\\r')\n",
    "            resp = input(\"Should We Continue?\")\n",
    "            if ((resp == 'n') | (resp == 'no')):\n",
    "                print(\"Don't forget to save the reviews scraped yet. \")\n",
    "                time.sleep(1.5)\n",
    "                return FFF_df,(i,start,end)\n",
    "                \n",
    "            \n",
    "        \n",
    "        start += num_rev\n",
    "        end += num_rev\n",
    "        \n",
    "        \n",
    "        \n",
    "        \n",
    "    return FFF_df,(i,start,end)\n",
    "        "
   ]
  },
  {
   "cell_type": "code",
   "execution_count": 243,
   "metadata": {},
   "outputs": [
    {
     "name": "stdout",
     "output_type": "stream",
     "text": [
      "Total Batches = 10\n",
      "On BATCH: 1\n",
      "\n",
      "Total Reviews on this link: 9\n",
      "Total Reviews on this link: 2\n",
      "Total Reviews on this link: 10\n",
      "Error in Review Extractor on link 3\n",
      "\n",
      "Batch: 1\n",
      "Start: 0 | End: 40 \r"
     ]
    },
    {
     "name": "stdin",
     "output_type": "stream",
     "text": [
      "Should We Continue? yes\n"
     ]
    },
    {
     "name": "stdout",
     "output_type": "stream",
     "text": [
      "On BATCH: 2\n",
      "\n",
      "Total Reviews on this link: 2\n",
      "Total Reviews on this link: 7\n",
      "Error in Review Extractor on link 2\n",
      "\n",
      "Batch: 2\n",
      "Start: 40 | End: 80 \r"
     ]
    },
    {
     "name": "stdin",
     "output_type": "stream",
     "text": [
      "Should We Continue? no\n"
     ]
    },
    {
     "name": "stdout",
     "output_type": "stream",
     "text": [
      "Don't forget to save the reviews scraped yet. \n"
     ]
    }
   ],
   "source": [
    "final_df,(i,s,e) = batch_review_extractor(list(hotels.values.reshape(-1,)))"
   ]
  },
  {
   "cell_type": "code",
   "execution_count": 244,
   "metadata": {},
   "outputs": [
    {
     "data": {
      "text/html": [
       "<div>\n",
       "<style scoped>\n",
       "    .dataframe tbody tr th:only-of-type {\n",
       "        vertical-align: middle;\n",
       "    }\n",
       "\n",
       "    .dataframe tbody tr th {\n",
       "        vertical-align: top;\n",
       "    }\n",
       "\n",
       "    .dataframe thead th {\n",
       "        text-align: right;\n",
       "    }\n",
       "</style>\n",
       "<table border=\"1\" class=\"dataframe\">\n",
       "  <thead>\n",
       "    <tr style=\"text-align: right;\">\n",
       "      <th></th>\n",
       "    </tr>\n",
       "  </thead>\n",
       "  <tbody>\n",
       "  </tbody>\n",
       "</table>\n",
       "</div>"
      ],
      "text/plain": [
       "Empty DataFrame\n",
       "Columns: []\n",
       "Index: []"
      ]
     },
     "execution_count": 244,
     "metadata": {},
     "output_type": "execute_result"
    }
   ],
   "source": [
    "final_df"
   ]
  },
  {
   "cell_type": "code",
   "execution_count": 316,
   "metadata": {
    "scrolled": true
   },
   "outputs": [
    {
     "name": "stdout",
     "output_type": "stream",
     "text": [
      "Total Reviews on this link: 10\n",
      "Total Reviews on this link: 10\n",
      "Total Reviews on this link: 3\n",
      "Total Reviews on this link: 9\n",
      "Total Reviews on this link: 5\n",
      "Total Reviews on this link: 1\n",
      "Total Reviews on this link: 8\n",
      "Total Reviews on this link: 4\n",
      "Total Reviews on this link: 10\n",
      "Total Reviews on this link: 1\n",
      "Total Reviews on this link: 10\n",
      "Total Reviews on this link: 1\n",
      "Total Reviews on this link: 9\n",
      "Total Reviews on this link: 2\n",
      "Total Reviews on this link: 1\n",
      "Total Reviews on this link: 1\n",
      "Total Reviews on this link: 2\n",
      "Total Reviews on this link: 3\n",
      "Total Reviews on this link: 2\n",
      "Total Reviews on this link: 1\n",
      "Total Reviews on this link: 2\n",
      "Total Reviews on this link: 3\n",
      "Total Reviews on this link: 3\n",
      "Total Reviews on this link: 4\n",
      "Total Reviews on this link: 10\n",
      "Total Reviews on this link: 10\n",
      "Total Reviews on this link: 1\n",
      "Total Reviews on this link: 1\n",
      "Total Reviews on this link: 2\n",
      "Total Reviews on this link: 10\n",
      "Total Reviews on this link: 8\n",
      "Total Reviews on this link: 1\n",
      "Total Reviews on this link: 2\n",
      "Total Reviews on this link: 7\n",
      "Total Reviews on this link: 10\n",
      "Total Reviews on this link: 2\n",
      "Total Reviews on this link: 6\n",
      "Total Reviews on this link: 2\n",
      "Total Reviews on this link: 5\n",
      "Total Reviews on this link: 1\n",
      "Total Reviews on this link: 3\n",
      "Total Reviews on this link: 10\n",
      "Total Reviews on this link: 10\n",
      "Total Reviews on this link: 10\n",
      "Total Reviews on this link: 10\n",
      "Total Reviews on this link: 3\n",
      "Total Reviews on this link: 2\n",
      "Total Reviews on this link: 1\n",
      "Total Reviews on this link: 3\n",
      "Total Reviews on this link: 5\n",
      "Total Reviews on this link: 1\n",
      "Total Reviews on this link: 1\n",
      "Total Reviews on this link: 1\n",
      "Total Reviews on this link: 10\n",
      "Total Reviews on this link: 1\n",
      "Total Reviews on this link: 2\n",
      "Total Reviews on this link: 10\n",
      "Total Reviews on this link: 1\n",
      "Total Reviews on this link: 1\n",
      "Total Reviews on this link: 3\n",
      "Total Reviews on this link: 3\n",
      "Total Reviews on this link: 2\n",
      "Total Reviews on this link: 2\n",
      "Total Reviews on this link: 5\n",
      "Total Reviews on this link: 1\n",
      "Total Reviews on this link: 1\n",
      "Total Reviews on this link: 3\n",
      "Total Reviews on this link: 6\n",
      "Total Reviews on this link: 3\n",
      "Total Reviews on this link: 4\n",
      "Total Reviews on this link: 1\n",
      "Total Reviews on this link: 1\n",
      "Total Reviews on this link: 1\n",
      "Total Reviews on this link: 8\n",
      "Total Reviews on this link: 1\n",
      "Total Reviews on this link: 1\n",
      "Total Reviews on this link: 10\n",
      "Total Reviews on this link: 10\n",
      "Total Reviews on this link: 10\n",
      "Total Reviews on this link: 4\n",
      "Total Reviews on this link: 1\n",
      "Total Reviews on this link: 6\n",
      "Total Reviews on this link: 3\n",
      "Total Reviews on this link: 2\n",
      "Total Reviews on this link: 1\n",
      "Total Reviews on this link: 5\n",
      "Total Reviews on this link: 10\n",
      "Total Reviews on this link: 2\n",
      "Total Reviews on this link: 2\n",
      "Total Reviews on this link: 4\n",
      "Total Reviews on this link: 1\n",
      "Total Reviews on this link: 2\n",
      "Total Reviews on this link: 9\n",
      "Total Reviews on this link: 6\n",
      "Total Reviews on this link: 1\n",
      "Total Reviews on this link: 1\n",
      "Total Reviews on this link: 2\n",
      "Total Reviews on this link: 1\n",
      "Total Reviews on this link: 1\n",
      "Total Reviews on this link: 3\n",
      "Total Reviews on this link: 10\n",
      "Total Reviews on this link: 4\n",
      "Total Reviews on this link: 2\n",
      "Total Reviews on this link: 9\n",
      "Total Reviews on this link: 1\n",
      "Total Reviews on this link: 1\n",
      "Total Reviews on this link: 1\n",
      "Total Reviews on this link: 10\n",
      "Total Reviews on this link: 3\n",
      "Total Reviews on this link: 10\n",
      "Total Reviews on this link: 1\n",
      "Total Reviews on this link: 8\n",
      "Total Reviews on this link: 1\n",
      "Total Reviews on this link: 1\n",
      "Total Reviews on this link: 3\n",
      "Total Reviews on this link: 1\n",
      "Total Reviews on this link: 1\n",
      "Total Reviews on this link: 1\n",
      "Total Reviews on this link: 3\n",
      "Total Reviews on this link: 2\n",
      "Total Reviews on this link: 1\n",
      "Total Reviews on this link: 0\n",
      "Total Reviews on this link: 2\n",
      "Total Reviews on this link: 3\n",
      "Total Reviews on this link: 2\n",
      "Total Reviews on this link: 2\n",
      "Total Reviews on this link: 4\n",
      "Total Reviews on this link: 10\n",
      "Total Reviews on this link: 3\n",
      "Total Reviews on this link: 2\n",
      "Total Reviews on this link: 1\n",
      "Total Reviews on this link: 1\n",
      "Total Reviews on this link: 10\n",
      "Total Reviews on this link: 1\n",
      "Total Reviews on this link: 1\n",
      "Total Reviews on this link: 1\n",
      "Total Reviews on this link: 1\n",
      "Total Reviews on this link: 1\n",
      "Total Reviews on this link: 2\n",
      "Total Reviews on this link: 10\n",
      "Total Reviews on this link: 2\n",
      "Total Reviews on this link: 6\n",
      "Total Reviews on this link: 1\n",
      "Total Reviews on this link: 1\n",
      "Total Reviews on this link: 2\n",
      "Total Reviews on this link: 5\n",
      "Total Reviews on this link: 1\n",
      "Total Reviews on this link: 4\n",
      "Total Reviews on this link: 10\n",
      "Total Reviews on this link: 8\n",
      "Total Reviews on this link: 1\n",
      "Total Reviews on this link: 1\n",
      "Total Reviews on this link: 10\n",
      "Total Reviews on this link: 1\n",
      "Total Reviews on this link: 1\n",
      "Total Reviews on this link: 1\n",
      "Total Reviews on this link: 3\n",
      "Total Reviews on this link: 6\n",
      "Total Reviews on this link: 1\n",
      "Total Reviews on this link: 2\n",
      "Total Reviews on this link: 5\n",
      "Total Reviews on this link: 10\n",
      "Total Reviews on this link: 1\n",
      "Total Reviews on this link: 2\n",
      "Total Reviews on this link: 2\n",
      "Total Reviews on this link: 1\n",
      "Total Reviews on this link: 2\n",
      "Total Reviews on this link: 3\n",
      "Total Reviews on this link: 5\n",
      "Total Reviews on this link: 2\n",
      "Total Reviews on this link: 1\n",
      "Total Reviews on this link: 10\n",
      "Total Reviews on this link: 10\n",
      "Total Reviews on this link: 10\n",
      "Total Reviews on this link: 10\n",
      "Total Reviews on this link: 1\n",
      "Total Reviews on this link: 4\n",
      "Total Reviews on this link: 2\n",
      "Total Reviews on this link: 1\n",
      "Total Reviews on this link: 1\n",
      "Total Reviews on this link: 1\n",
      "Total Reviews on this link: 10\n",
      "Total Reviews on this link: 8\n",
      "Total Reviews on this link: 1\n",
      "Total Reviews on this link: 1\n",
      "Total Reviews on this link: 1\n",
      "Total Reviews on this link: 2\n",
      "Total Reviews on this link: 1\n",
      "Total Reviews on this link: 2\n",
      "Total Reviews on this link: 1\n",
      "Total Reviews on this link: 3\n",
      "Total Reviews on this link: 10\n",
      "Total Reviews on this link: 2\n",
      "Total Reviews on this link: 1\n",
      "Total Reviews on this link: 10\n",
      "Total Reviews on this link: 5\n",
      "Total Reviews on this link: 2\n",
      "Total Reviews on this link: 3\n",
      "Total Reviews on this link: 3\n",
      "Total Reviews on this link: 1\n",
      "Total Reviews on this link: 1\n",
      "Total Reviews on this link: 10\n",
      "Total Reviews on this link: 1\n",
      "Total Reviews on this link: 2\n",
      "Total Reviews on this link: 5\n",
      "Total Reviews on this link: 1\n",
      "Total Reviews on this link: 4\n",
      "Total Reviews on this link: 4\n",
      "Total Reviews on this link: 3\n",
      "Total Reviews on this link: 2\n",
      "Total Reviews on this link: 1\n",
      "Total Reviews on this link: 2\n",
      "Total Reviews on this link: 3\n",
      "Total Reviews on this link: 4\n",
      "Total Reviews on this link: 2\n",
      "Total Reviews on this link: 10\n",
      "Total Reviews on this link: 10\n",
      "Total Reviews on this link: 7\n",
      "Total Reviews on this link: 3\n",
      "Total Reviews on this link: 1\n",
      "Total Reviews on this link: 1\n",
      "Total Reviews on this link: 1\n",
      "Total Reviews on this link: 10\n",
      "Total Reviews on this link: 10\n",
      "Total Reviews on this link: 1\n",
      "Total Reviews on this link: 1\n",
      "Total Reviews on this link: 1\n",
      "Total Reviews on this link: 1\n",
      "Total Reviews on this link: 10\n",
      "Total Reviews on this link: 2\n",
      "Total Reviews on this link: 6\n",
      "Total Reviews on this link: 1\n",
      "Total Reviews on this link: 2\n",
      "Total Reviews on this link: 7\n",
      "Total Reviews on this link: 1\n",
      "Total Reviews on this link: 3\n",
      "Total Reviews on this link: 10\n",
      "Total Reviews on this link: 2\n",
      "Total Reviews on this link: 7\n",
      "Total Reviews on this link: 3\n",
      "Total Reviews on this link: 10\n",
      "Total Reviews on this link: 2\n",
      "Total Reviews on this link: 2\n",
      "Total Reviews on this link: 1\n",
      "Total Reviews on this link: 4\n",
      "Total Reviews on this link: 1\n",
      "Total Reviews on this link: 1\n",
      "Total Reviews on this link: 1\n",
      "Total Reviews on this link: 1\n",
      "Total Reviews on this link: 3\n",
      "Total Reviews on this link: 5\n",
      "Total Reviews on this link: 1\n",
      "Total Reviews on this link: 2\n",
      "Total Reviews on this link: 1\n",
      "Total Reviews on this link: 1\n",
      "Total Reviews on this link: 4\n",
      "Total Reviews on this link: 1\n",
      "Total Reviews on this link: 1\n",
      "Total Reviews on this link: 6\n",
      "Total Reviews on this link: 1\n",
      "Total Reviews on this link: 10\n",
      "Total Reviews on this link: 2\n",
      "Total Reviews on this link: 1\n",
      "Total Reviews on this link: 1\n",
      "Total Reviews on this link: 1\n",
      "Total Reviews on this link: 9\n",
      "Total Reviews on this link: 10\n",
      "Total Reviews on this link: 10\n",
      "Total Reviews on this link: 1\n",
      "Total Reviews on this link: 0\n",
      "Total Reviews on this link: 10\n",
      "Total Reviews on this link: 2\n",
      "Total Reviews on this link: 2\n",
      "Total Reviews on this link: 0\n",
      "Total Reviews on this link: 5\n",
      "Total Reviews on this link: 2\n",
      "Total Reviews on this link: 1\n",
      "Total Reviews on this link: 10\n",
      "Total Reviews on this link: 3\n",
      "Total Reviews on this link: 1\n",
      "Total Reviews on this link: 1\n",
      "Total Reviews on this link: 1\n",
      "Total Reviews on this link: 2\n",
      "Total Reviews on this link: 3\n",
      "Total Reviews on this link: 5\n",
      "Total Reviews on this link: 10\n",
      "Total Reviews on this link: 0\n",
      "Total Reviews on this link: 1\n",
      "Total Reviews on this link: 0\n",
      "Total Reviews on this link: 0\n",
      "Total Reviews on this link: 1\n",
      "Total Reviews on this link: 10\n",
      "Total Reviews on this link: 2\n",
      "Total Reviews on this link: 0\n",
      "Total Reviews on this link: 10\n",
      "Total Reviews on this link: 0\n",
      "Total Reviews on this link: 0\n",
      "Total Reviews on this link: 10\n",
      "Total Reviews on this link: 0\n",
      "Total Reviews on this link: 9\n",
      "Total Reviews on this link: 10\n",
      "Total Reviews on this link: 0\n",
      "Total Reviews on this link: 0\n",
      "Total Reviews on this link: 1\n",
      "Total Reviews on this link: 0\n",
      "Total Reviews on this link: 10\n",
      "Total Reviews on this link: 0\n",
      "Total Reviews on this link: 0\n",
      "Total Reviews on this link: 7\n",
      "Total Reviews on this link: 0\n",
      "Total Reviews on this link: 0\n",
      "Total Reviews on this link: 0\n",
      "Total Reviews on this link: 0\n",
      "Total Reviews on this link: 0\n",
      "Total Reviews on this link: 0\n",
      "Total Reviews on this link: 0\n",
      "Total Reviews on this link: 0\n",
      "Total Reviews on this link: 0\n",
      "Total Reviews on this link: 0\n",
      "Total Reviews on this link: 0\n",
      "Total Reviews on this link: 1\n",
      "Total Reviews on this link: 0\n",
      "Total Reviews on this link: 0\n",
      "Total Reviews on this link: 1\n",
      "Total Reviews on this link: 1\n",
      "Total Reviews on this link: 0\n",
      "Total Reviews on this link: 4\n",
      "Total Reviews on this link: 0\n",
      "Total Reviews on this link: 2\n",
      "Total Reviews on this link: 0\n",
      "Total Reviews on this link: 1\n"
     ]
    }
   ],
   "source": [
    "FF_DF = get_reviews_bookingdotcom(  list(hotels.values.reshape(-1,))[69:]  )"
   ]
  },
  {
   "cell_type": "code",
   "execution_count": 317,
   "metadata": {},
   "outputs": [
    {
     "data": {
      "text/html": [
       "<div>\n",
       "<style scoped>\n",
       "    .dataframe tbody tr th:only-of-type {\n",
       "        vertical-align: middle;\n",
       "    }\n",
       "\n",
       "    .dataframe tbody tr th {\n",
       "        vertical-align: top;\n",
       "    }\n",
       "\n",
       "    .dataframe thead th {\n",
       "        text-align: right;\n",
       "    }\n",
       "</style>\n",
       "<table border=\"1\" class=\"dataframe\">\n",
       "  <thead>\n",
       "    <tr style=\"text-align: right;\">\n",
       "      <th></th>\n",
       "      <th>Hotel Name</th>\n",
       "      <th>Name</th>\n",
       "      <th>Country</th>\n",
       "      <th>Rating given</th>\n",
       "      <th>Summary</th>\n",
       "      <th>Review</th>\n",
       "    </tr>\n",
       "  </thead>\n",
       "  <tbody>\n",
       "    <tr>\n",
       "      <td>0</td>\n",
       "      <td>oyo-7100-crossroads</td>\n",
       "      <td>Deepak</td>\n",
       "      <td>India</td>\n",
       "      <td>6.7</td>\n",
       "      <td>Quite good hotel</td>\n",
       "      <td>Only one thing dt there was no disturbance</td>\n",
       "    </tr>\n",
       "    <tr>\n",
       "      <td>1</td>\n",
       "      <td>oyo-7100-crossroads</td>\n",
       "      <td>Praveen</td>\n",
       "      <td>India</td>\n",
       "      <td>5.0</td>\n",
       "      <td>Passable</td>\n",
       "      <td>Towel is not there in room water is not there ...</td>\n",
       "    </tr>\n",
       "    <tr>\n",
       "      <td>2</td>\n",
       "      <td>oyo-7100-crossroads</td>\n",
       "      <td>Naveen</td>\n",
       "      <td>India</td>\n",
       "      <td>6.7</td>\n",
       "      <td>Disappointing hospitality!!</td>\n",
       "      <td>Good location and decent rooms.</td>\n",
       "    </tr>\n",
       "    <tr>\n",
       "      <td>3</td>\n",
       "      <td>oyo-7100-crossroads</td>\n",
       "      <td>Bunker!!!</td>\n",
       "      <td>India</td>\n",
       "      <td>7.5</td>\n",
       "      <td>Good</td>\n",
       "      <td>It's worth the money and comfortable too!!!</td>\n",
       "    </tr>\n",
       "    <tr>\n",
       "      <td>4</td>\n",
       "      <td>oyo-7100-crossroads</td>\n",
       "      <td>Dd</td>\n",
       "      <td>India</td>\n",
       "      <td>6.2</td>\n",
       "      <td>So so not so well</td>\n",
       "      <td>Normal</td>\n",
       "    </tr>\n",
       "    <tr>\n",
       "      <td>...</td>\n",
       "      <td>...</td>\n",
       "      <td>...</td>\n",
       "      <td>...</td>\n",
       "      <td>...</td>\n",
       "      <td>...</td>\n",
       "      <td>...</td>\n",
       "    </tr>\n",
       "    <tr>\n",
       "      <td>1144</td>\n",
       "      <td>oyo-home-40131-sea-view-stay-mayajaal</td>\n",
       "      <td>Saranya</td>\n",
       "      <td>India</td>\n",
       "      <td>6.2</td>\n",
       "      <td>Pleasant</td>\n",
       "      <td>No Review Given</td>\n",
       "    </tr>\n",
       "    <tr>\n",
       "      <td>1145</td>\n",
       "      <td>oyo-home-40131-sea-view-stay-mayajaal</td>\n",
       "      <td>Ajith</td>\n",
       "      <td>India</td>\n",
       "      <td>9.6</td>\n",
       "      <td>Exceptional</td>\n",
       "      <td>No Review Given</td>\n",
       "    </tr>\n",
       "    <tr>\n",
       "      <td>1146</td>\n",
       "      <td>oyo-22104-home-graceful-3bhk-greater-kailash-1...</td>\n",
       "      <td>Anonymous</td>\n",
       "      <td>Peru</td>\n",
       "      <td>5.4</td>\n",
       "      <td>Better options exist for this price</td>\n",
       "      <td>Location and layout of the room.</td>\n",
       "    </tr>\n",
       "    <tr>\n",
       "      <td>1147</td>\n",
       "      <td>oyo-22104-home-graceful-3bhk-greater-kailash-1...</td>\n",
       "      <td>Rajinder</td>\n",
       "      <td>India</td>\n",
       "      <td>6.7</td>\n",
       "      <td>Pleasant</td>\n",
       "      <td>No Review Given</td>\n",
       "    </tr>\n",
       "    <tr>\n",
       "      <td>1148</td>\n",
       "      <td>oyo-25046-the-orient-taj-agra</td>\n",
       "      <td>Abhishek</td>\n",
       "      <td>India</td>\n",
       "      <td>3.3</td>\n",
       "      <td>Poor</td>\n",
       "      <td>No Review Given</td>\n",
       "    </tr>\n",
       "  </tbody>\n",
       "</table>\n",
       "<p>1149 rows × 6 columns</p>\n",
       "</div>"
      ],
      "text/plain": [
       "                                             Hotel Name       Name Country  \\\n",
       "0                                   oyo-7100-crossroads     Deepak   India   \n",
       "1                                   oyo-7100-crossroads    Praveen   India   \n",
       "2                                   oyo-7100-crossroads     Naveen   India   \n",
       "3                                   oyo-7100-crossroads  Bunker!!!   India   \n",
       "4                                   oyo-7100-crossroads         Dd   India   \n",
       "...                                                 ...        ...     ...   \n",
       "1144              oyo-home-40131-sea-view-stay-mayajaal    Saranya   India   \n",
       "1145              oyo-home-40131-sea-view-stay-mayajaal      Ajith   India   \n",
       "1146  oyo-22104-home-graceful-3bhk-greater-kailash-1...  Anonymous    Peru   \n",
       "1147  oyo-22104-home-graceful-3bhk-greater-kailash-1...   Rajinder   India   \n",
       "1148                      oyo-25046-the-orient-taj-agra   Abhishek   India   \n",
       "\n",
       "     Rating given                              Summary  \\\n",
       "0             6.7                     Quite good hotel   \n",
       "1             5.0                             Passable   \n",
       "2             6.7          Disappointing hospitality!!   \n",
       "3             7.5                                 Good   \n",
       "4             6.2                    So so not so well   \n",
       "...           ...                                  ...   \n",
       "1144          6.2                             Pleasant   \n",
       "1145          9.6                          Exceptional   \n",
       "1146          5.4  Better options exist for this price   \n",
       "1147          6.7                             Pleasant   \n",
       "1148          3.3                                 Poor   \n",
       "\n",
       "                                                 Review  \n",
       "0            Only one thing dt there was no disturbance  \n",
       "1     Towel is not there in room water is not there ...  \n",
       "2                       Good location and decent rooms.  \n",
       "3           It's worth the money and comfortable too!!!  \n",
       "4                                                Normal  \n",
       "...                                                 ...  \n",
       "1144                                    No Review Given  \n",
       "1145                                    No Review Given  \n",
       "1146                   Location and layout of the room.  \n",
       "1147                                    No Review Given  \n",
       "1148                                    No Review Given  \n",
       "\n",
       "[1149 rows x 6 columns]"
      ]
     },
     "execution_count": 317,
     "metadata": {},
     "output_type": "execute_result"
    }
   ],
   "source": [
    "FF_DF"
   ]
  },
  {
   "cell_type": "code",
   "execution_count": 319,
   "metadata": {},
   "outputs": [],
   "source": [
    "FF_DF.to_csv(\"OYO_Hotel_Reviews_69_2end.csv\")"
   ]
  },
  {
   "cell_type": "code",
   "execution_count": 298,
   "metadata": {},
   "outputs": [
    {
     "data": {
      "text/plain": [
       "'booking.com/hotel/in/oyo-home-39790-comfort-stay-noida-sector-70-noida12.en-gb.html?aid=304142&label=gen173nr-1FCBkoggI46AdIM1gEaGyIAQGYATG4ARnIAQzYAQHoAQH4AQKIAgGoAgO4AvqTt-8FwAIB&sid=34f63f84d9d0ab8da5f5c0aae2ccc09c&dest_id=98&dest_type=country&group_adults=2&group_children=0&hapos=28&hpos=3&nflt=chaincode%3D6015%3B&no_rooms=1&sr_order=popularity&srepoch=1575882839&srpvid=d42c40eb6033009b&ucfs=1&from=searchresults;highlight_room=#hotelTmpl'"
      ]
     },
     "execution_count": 298,
     "metadata": {},
     "output_type": "execute_result"
    }
   ],
   "source": [
    "hotels.values.reshape(-1,)[27]"
   ]
  },
  {
   "cell_type": "code",
   "execution_count": 318,
   "metadata": {},
   "outputs": [
    {
     "data": {
      "text/plain": [
       "400"
      ]
     },
     "execution_count": 318,
     "metadata": {},
     "output_type": "execute_result"
    }
   ],
   "source": [
    "len(hotels)"
   ]
  },
  {
   "cell_type": "markdown",
   "metadata": {},
   "source": [
    "## 4. Finalizing Stuff"
   ]
  },
  {
   "cell_type": "code",
   "execution_count": 330,
   "metadata": {},
   "outputs": [],
   "source": [
    "def Combining_Everything(pwd):\n",
    "    stuffs = os.listdir(pwd)\n",
    "    full_df = pd.DataFrame()\n",
    "    for file in stuffs:\n",
    "        if file[:17] == \"OYO_Hotel_Reviews\":\n",
    "            df = pd.read_csv(file)\n",
    "            full_df = full_df.append(df,ignore_index = True)\n",
    "    return full_df\n"
   ]
  },
  {
   "cell_type": "code",
   "execution_count": 323,
   "metadata": {},
   "outputs": [
    {
     "data": {
      "text/plain": [
       "'/home/animesh/Meltwater Winter 2019/Web Scraping Tasks/OYO Rooms Reviews/Booking.com'"
      ]
     },
     "execution_count": 323,
     "metadata": {},
     "output_type": "execute_result"
    }
   ],
   "source": [
    "pwd"
   ]
  },
  {
   "cell_type": "code",
   "execution_count": 331,
   "metadata": {},
   "outputs": [],
   "source": [
    "FINAL_DF = Combining_Everything('/home/animesh/Meltwater Winter 2019/Web Scraping Tasks/OYO Rooms Reviews/Booking.com')"
   ]
  },
  {
   "cell_type": "code",
   "execution_count": 345,
   "metadata": {},
   "outputs": [],
   "source": [
    "FINAL_DF.drop(['Unnamed: 0'],axis = 1).to_csv('OYO ROOMS REVIEWS.csv')"
   ]
  },
  {
   "cell_type": "markdown",
   "metadata": {},
   "source": [
    "Completed, finally."
   ]
  }
 ],
 "metadata": {
  "kernelspec": {
   "display_name": "Python 3",
   "language": "python",
   "name": "python3"
  },
  "language_info": {
   "codemirror_mode": {
    "name": "ipython",
    "version": 3
   },
   "file_extension": ".py",
   "mimetype": "text/x-python",
   "name": "python",
   "nbconvert_exporter": "python",
   "pygments_lexer": "ipython3",
   "version": "3.7.4"
  }
 },
 "nbformat": 4,
 "nbformat_minor": 4
}
