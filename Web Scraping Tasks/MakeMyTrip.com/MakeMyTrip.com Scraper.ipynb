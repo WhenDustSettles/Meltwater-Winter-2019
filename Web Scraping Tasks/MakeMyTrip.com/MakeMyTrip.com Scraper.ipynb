{
 "cells": [
  {
   "cell_type": "markdown",
   "metadata": {},
   "source": [
    "# $\\verb|MakeMyTrip.com|$ "
   ]
  },
  {
   "cell_type": "markdown",
   "metadata": {},
   "source": [
    "Make sure to cross check XPath for each address."
   ]
  },
  {
   "cell_type": "code",
   "execution_count": 1,
   "metadata": {},
   "outputs": [],
   "source": [
    "from selenium import webdriver\n",
    "from parsel import Selector\n",
    "import os, time\n",
    "import pandas as pd\n",
    "import re\n",
    "import numpy as np"
   ]
  },
  {
   "cell_type": "markdown",
   "metadata": {},
   "source": [
    "//Deprecated\n",
    "\n",
    "Change the BASE_URL with the string format:{} as the url also contains visitorID, which might track the frequency of Queries\n",
    "\n",
    "UPDATE: You can change the initial numbers of visitorID to any number, so suggest doing that too. \n",
    "\n",
    "//"
   ]
  },
  {
   "cell_type": "markdown",
   "metadata": {},
   "source": [
    "Login with your 2nd account first."
   ]
  },
  {
   "cell_type": "code",
   "execution_count": 2,
   "metadata": {},
   "outputs": [],
   "source": [
    "CITY = 'Raipur'#Enter a city\n",
    "BASE_URL = 'https://www.makemytrip.com/hotels/'"
   ]
  },
  {
   "cell_type": "markdown",
   "metadata": {},
   "source": [
    "After each city change in BASE_URL, please check if the current webpage's city is same as the previous, or print it out. As when there's no hotels for that search it loads the same back."
   ]
  },
  {
   "cell_type": "code",
   "execution_count": 3,
   "metadata": {},
   "outputs": [],
   "source": [
    "SEARCH_AREA_XPATH = '/html/body/div/div/div[2]/div/div/div[2]/div/div[1]/div[1]/label'\n",
    "ACTUAL_SEARCH_AREA_XPATH = '/html/body/div/div/div[2]/div/div/div[2]/div/div[1]/div[1]/div[1]/div/div/div/input'\n",
    "FIRST_OR_SEC_SUGG_XPATH = '/html/body/div/div/div[2]/div/div/div[2]/div/div[1]/div[1]/div[1]/div/div/div/div/div/ul/li[{}]/div/div' #use .format(1) or .format(2)\n",
    "\n",
    "#ROOMS_GUESTS_XPATH = '/html/body/div/div/div[2]/div/div/div[2]/div/div/div[4]/label'\n",
    "#ROOMS_GUESTS_APPLY_XPATH = '/html/body/div/div/div[2]/div/div/div[2]/div/div/div[4]/div[1]/div[2]/button[2]'\n",
    "\n",
    "SEARCH_XPATH = '/html/body/div/div/div[2]/div/div/div[2]/div/p/button'\n",
    "               \n",
    "CLOSE_BUTTON_XPATH = '/html/body/div[1]/div/div[2]/div[3]/span'\n",
    "\n",
    "SEARCH_HOTEL_NAME_XPATH = '/html/body/div[1]/div/div[2]/div[2]/div[1]/div/div/div[2]/form/div/div/input'\n",
    "                          \n",
    "#Enter the keyword 'oyo'\n",
    "\n",
    "OYO_RESULTS_LINK_XPATH = '/html/body/div[1]/div/div[2]/div[2]/div[1]/div/div/div[2]/form/div/div/div/ul/li[{}]/a/attribute::href'\n"
   ]
  },
  {
   "cell_type": "markdown",
   "metadata": {},
   "source": [
    "Extract Links first"
   ]
  },
  {
   "cell_type": "code",
   "execution_count": 64,
   "metadata": {},
   "outputs": [],
   "source": [
    "driver = webdriver.Chrome(executable_path='/home/animesh/Meltwater Winter 2019/Web Scraping Tasks/OYO Rooms Reviews/Booking.com/chromedriver')"
   ]
  },
  {
   "cell_type": "code",
   "execution_count": 65,
   "metadata": {},
   "outputs": [],
   "source": [
    "driver.get(BASE_URL)"
   ]
  },
  {
   "cell_type": "markdown",
   "metadata": {},
   "source": [
    "### Testing a sample use."
   ]
  },
  {
   "cell_type": "markdown",
   "metadata": {},
   "source": [
    "1. Entering City to Search"
   ]
  },
  {
   "cell_type": "code",
   "execution_count": 27,
   "metadata": {},
   "outputs": [],
   "source": [
    "search_area = driver.find_element_by_xpath(SEARCH_AREA_XPATH)\n",
    "search_area.click()\n",
    "search_area.send_keys(CITY)"
   ]
  },
  {
   "cell_type": "markdown",
   "metadata": {},
   "source": [
    "2. CLicking first(or second) suggestion "
   ]
  },
  {
   "cell_type": "code",
   "execution_count": 28,
   "metadata": {},
   "outputs": [],
   "source": [
    "try:\n",
    "    suggestion = driver.find_element_by_xpath(FIRST_OR_SEC_SUGG_XPATH.format(1))\n",
    "except:\n",
    "    suggestion = driver.find_element_by_xpath(FIRST_OR_SEC_SUGG_XPATH.format(2))\n",
    "    \n",
    "suggestion.click()"
   ]
  },
  {
   "cell_type": "markdown",
   "metadata": {},
   "source": [
    "3. Clicking Search Button"
   ]
  },
  {
   "cell_type": "code",
   "execution_count": 29,
   "metadata": {},
   "outputs": [],
   "source": [
    "driver.find_element_by_xpath(SEARCH_XPATH).click()"
   ]
  },
  {
   "cell_type": "markdown",
   "metadata": {},
   "source": [
    "4. Look for the \"CLOSE\" Button, and if it's there, then click it."
   ]
  },
  {
   "cell_type": "code",
   "execution_count": 30,
   "metadata": {},
   "outputs": [],
   "source": [
    "try:\n",
    "    driver.find_element_by_xpath(CLOSE_BUTTON_XPATH).click()\n",
    "except:\n",
    "    print(\"No Close button found, continuing....\")"
   ]
  },
  {
   "cell_type": "markdown",
   "metadata": {},
   "source": [
    "5. Search for the Keyword 'OyO' in Hotel Name Search Area"
   ]
  },
  {
   "cell_type": "code",
   "execution_count": 31,
   "metadata": {},
   "outputs": [],
   "source": [
    "hotel_name = driver.find_element_by_xpath(SEARCH_HOTEL_NAME_XPATH)\n",
    "hotel_name.send_keys('OyO')"
   ]
  },
  {
   "cell_type": "markdown",
   "metadata": {},
   "source": [
    "6. Extract all the links"
   ]
  },
  {
   "cell_type": "code",
   "execution_count": 32,
   "metadata": {},
   "outputs": [
    {
     "name": "stdout",
     "output_type": "stream",
     "text": [
      "Scraped 10 hotels... Breaking off.\n"
     ]
    }
   ],
   "source": [
    "i = 0\n",
    "urls = []\n",
    "while True:\n",
    "    i+=1\n",
    "    try:\n",
    "        sel = Selector(text = driver.page_source)\n",
    "        link = 'https://www.makemytrip.com' + sel.xpath(OYO_RESULTS_LINK_XPATH.format(i)).extract()[0]\n",
    "        urls.append(link)\n",
    "    except:\n",
    "        print(\"Scraped {} hotels... Breaking off.\".format(len(urls)))\n",
    "        break"
   ]
  },
  {
   "cell_type": "markdown",
   "metadata": {},
   "source": [
    "So now, we have links of all the OyO hotels in the city.\n",
    "\n",
    "Defining, above stuff as a function below:-"
   ]
  },
  {
   "cell_type": "code",
   "execution_count": 6,
   "metadata": {},
   "outputs": [],
   "source": [
    "def Scrape_hotels(driver,CITY, return_csv = False):\n",
    "    \n",
    "    '''driver should be at BASE_URL'''\n",
    "    \n",
    "    driver.find_element_by_xpath(SEARCH_AREA_XPATH).click()\n",
    "    #search_area = driver.find_element_by_xpath(ACTUAL_SEARCH_AREA_XPATH)\n",
    "    time.sleep(2)\n",
    "    driver.find_element_by_xpath(ACTUAL_SEARCH_AREA_XPATH).send_keys(CITY)\n",
    "\n",
    "\n",
    "    time.sleep(2)\n",
    "\n",
    "\n",
    "    \n",
    "    \n",
    "    try:\n",
    "        suggestion = driver.find_element_by_xpath(FIRST_OR_SEC_SUGG_XPATH.format(1))\n",
    "    except:\n",
    "        suggestion = driver.find_element_by_xpath(FIRST_OR_SEC_SUGG_XPATH.format(2))\n",
    "\n",
    "    suggestion.click()\n",
    "\n",
    "\n",
    "    driver.find_element_by_xpath(SEARCH_AREA_XPATH).click()\n",
    "    time.sleep(1)\n",
    "    driver.find_element_by_xpath(ACTUAL_SEARCH_AREA_XPATH).send_keys(CITY)\n",
    "\n",
    "    try:\n",
    "        suggestion = driver.find_element_by_xpath(FIRST_OR_SEC_SUGG_XPATH.format(1))\n",
    "    except:\n",
    "        suggestion = driver.find_element_by_xpath(FIRST_OR_SEC_SUGG_XPATH.format(2))\n",
    "\n",
    "    suggestion.click()\n",
    "\n",
    "\n",
    "    \n",
    "    \n",
    "    driver.find_element_by_xpath(SEARCH_XPATH).click()\n",
    "\n",
    "\n",
    "    time.sleep(0.5)\n",
    "\n",
    "\n",
    "    try:\n",
    "        driver.find_element_by_xpath(CLOSE_BUTTON_XPATH).click()\n",
    "    except:\n",
    "        print(\"No Close button found, continuing....\")\n",
    "\n",
    "\n",
    "    hotel_name = driver.find_element_by_xpath(SEARCH_HOTEL_NAME_XPATH)\n",
    "    hotel_name.send_keys('OyO')\n",
    "\n",
    "\n",
    "    i = 0\n",
    "    urls = []\n",
    "    time.sleep(1)\n",
    "    sel = Selector(text = driver.page_source)\n",
    "    while True:\n",
    "        i+=1\n",
    "        try:\n",
    "            link = 'https://www.makemytrip.com' + sel.xpath(OYO_RESULTS_LINK_XPATH.format(i)).extract()[0]\n",
    "            urls.append(link)\n",
    "        except:\n",
    "            print(\"Scraped {} hotels... Breaking off.\".format(len(urls)))\n",
    "            break\n",
    "\n",
    "    if return_csv == False:\n",
    "        return pd.DataFrame(urls,columns=['Links'])\n",
    "    \n",
    "    return pd.DataFrame(urls,columns=['Links']).to_csv('{}_MMT_OYO_Hotels.csv'.format(CITY))"
   ]
  },
  {
   "cell_type": "markdown",
   "metadata": {},
   "source": [
    "Testing above function"
   ]
  },
  {
   "cell_type": "code",
   "execution_count": 36,
   "metadata": {},
   "outputs": [],
   "source": [
    "driver.get(BASE_URL)"
   ]
  },
  {
   "cell_type": "code",
   "execution_count": 37,
   "metadata": {},
   "outputs": [
    {
     "name": "stdout",
     "output_type": "stream",
     "text": [
      "No Close button found, continuing....\n",
      "Scraped 10 hotels... Breaking off.\n"
     ]
    }
   ],
   "source": [
    "Scrape_hotels(driver,'Ghaziabad',return_csv = True)"
   ]
  },
  {
   "cell_type": "markdown",
   "metadata": {},
   "source": [
    "## Using it to get OYO hotel links from top cities by Tourism."
   ]
  },
  {
   "cell_type": "code",
   "execution_count": 7,
   "metadata": {},
   "outputs": [],
   "source": [
    "top_cities = ['Delhi','Mumbai','Chennai','Agra','Jaipur','Kolkata']"
   ]
  },
  {
   "cell_type": "code",
   "execution_count": 8,
   "metadata": {},
   "outputs": [
    {
     "name": "stdout",
     "output_type": "stream",
     "text": [
      "No Close button found, continuing....\n",
      "Scraped 10 hotels... Breaking off.\n"
     ]
    },
    {
     "ename": "KeyboardInterrupt",
     "evalue": "",
     "output_type": "error",
     "traceback": [
      "\u001b[0;31m---------------------------------------------------------------------------\u001b[0m",
      "\u001b[0;31mKeyboardInterrupt\u001b[0m                         Traceback (most recent call last)",
      "\u001b[0;32m<ipython-input-8-e68bd7add569>\u001b[0m in \u001b[0;36m<module>\u001b[0;34m\u001b[0m\n\u001b[1;32m      2\u001b[0m \u001b[0;32mfor\u001b[0m \u001b[0mcity\u001b[0m \u001b[0;32min\u001b[0m \u001b[0mtop_cities\u001b[0m\u001b[0;34m:\u001b[0m\u001b[0;34m\u001b[0m\u001b[0;34m\u001b[0m\u001b[0m\n\u001b[1;32m      3\u001b[0m     \u001b[0mdriver\u001b[0m\u001b[0;34m.\u001b[0m\u001b[0mget\u001b[0m\u001b[0;34m(\u001b[0m\u001b[0mBASE_URL\u001b[0m\u001b[0;34m)\u001b[0m\u001b[0;34m\u001b[0m\u001b[0;34m\u001b[0m\u001b[0m\n\u001b[0;32m----> 4\u001b[0;31m     \u001b[0mlinks\u001b[0m\u001b[0;34m.\u001b[0m\u001b[0mappend\u001b[0m\u001b[0;34m(\u001b[0m\u001b[0mScrape_hotels\u001b[0m\u001b[0;34m(\u001b[0m\u001b[0mdriver\u001b[0m\u001b[0;34m,\u001b[0m\u001b[0mcity\u001b[0m\u001b[0;34m,\u001b[0m\u001b[0mreturn_csv\u001b[0m \u001b[0;34m=\u001b[0m \u001b[0;32mFalse\u001b[0m\u001b[0;34m)\u001b[0m\u001b[0;34m)\u001b[0m\u001b[0;34m\u001b[0m\u001b[0;34m\u001b[0m\u001b[0m\n\u001b[0m",
      "\u001b[0;32m<ipython-input-6-f4faef6b9433>\u001b[0m in \u001b[0;36mScrape_hotels\u001b[0;34m(driver, CITY, return_csv)\u001b[0m\n\u001b[1;32m      9\u001b[0m \u001b[0;34m\u001b[0m\u001b[0m\n\u001b[1;32m     10\u001b[0m \u001b[0;34m\u001b[0m\u001b[0m\n\u001b[0;32m---> 11\u001b[0;31m     \u001b[0mtime\u001b[0m\u001b[0;34m.\u001b[0m\u001b[0msleep\u001b[0m\u001b[0;34m(\u001b[0m\u001b[0;36m2\u001b[0m\u001b[0;34m)\u001b[0m\u001b[0;34m\u001b[0m\u001b[0;34m\u001b[0m\u001b[0m\n\u001b[0m\u001b[1;32m     12\u001b[0m \u001b[0;34m\u001b[0m\u001b[0m\n\u001b[1;32m     13\u001b[0m \u001b[0;34m\u001b[0m\u001b[0m\n",
      "\u001b[0;31mKeyboardInterrupt\u001b[0m: "
     ]
    }
   ],
   "source": [
    "links = []\n",
    "for city in top_cities:\n",
    "    driver.get(BASE_URL)\n",
    "    links.append(Scrape_hotels(driver,city,return_csv = False))"
   ]
  },
  {
   "cell_type": "code",
   "execution_count": 107,
   "metadata": {},
   "outputs": [],
   "source": [
    "df = pd.DataFrame()\n",
    "\n",
    "for i in range(len(top_cities)):\n",
    "    df = df.append(links[i])"
   ]
  },
  {
   "cell_type": "code",
   "execution_count": 108,
   "metadata": {},
   "outputs": [
    {
     "data": {
      "text/html": [
       "<div>\n",
       "<style scoped>\n",
       "    .dataframe tbody tr th:only-of-type {\n",
       "        vertical-align: middle;\n",
       "    }\n",
       "\n",
       "    .dataframe tbody tr th {\n",
       "        vertical-align: top;\n",
       "    }\n",
       "\n",
       "    .dataframe thead th {\n",
       "        text-align: right;\n",
       "    }\n",
       "</style>\n",
       "<table border=\"1\" class=\"dataframe\">\n",
       "  <thead>\n",
       "    <tr style=\"text-align: right;\">\n",
       "      <th></th>\n",
       "      <th>Links</th>\n",
       "    </tr>\n",
       "  </thead>\n",
       "  <tbody>\n",
       "    <tr>\n",
       "      <td>0</td>\n",
       "      <td>https://www.makemytrip.com/hotels/hotel-detail...</td>\n",
       "    </tr>\n",
       "    <tr>\n",
       "      <td>1</td>\n",
       "      <td>https://www.makemytrip.com/hotels/hotel-detail...</td>\n",
       "    </tr>\n",
       "    <tr>\n",
       "      <td>2</td>\n",
       "      <td>https://www.makemytrip.com/hotels/hotel-detail...</td>\n",
       "    </tr>\n",
       "    <tr>\n",
       "      <td>3</td>\n",
       "      <td>https://www.makemytrip.com/hotels/hotel-detail...</td>\n",
       "    </tr>\n",
       "    <tr>\n",
       "      <td>4</td>\n",
       "      <td>https://www.makemytrip.com/hotels/hotel-detail...</td>\n",
       "    </tr>\n",
       "    <tr>\n",
       "      <td>...</td>\n",
       "      <td>...</td>\n",
       "    </tr>\n",
       "    <tr>\n",
       "      <td>5</td>\n",
       "      <td>https://www.makemytrip.com/hotels/hotel-detail...</td>\n",
       "    </tr>\n",
       "    <tr>\n",
       "      <td>6</td>\n",
       "      <td>https://www.makemytrip.com/hotels/hotel-detail...</td>\n",
       "    </tr>\n",
       "    <tr>\n",
       "      <td>7</td>\n",
       "      <td>https://www.makemytrip.com/hotels/hotel-detail...</td>\n",
       "    </tr>\n",
       "    <tr>\n",
       "      <td>8</td>\n",
       "      <td>https://www.makemytrip.com/hotels/hotel-detail...</td>\n",
       "    </tr>\n",
       "    <tr>\n",
       "      <td>9</td>\n",
       "      <td>https://www.makemytrip.com/hotels/hotel-detail...</td>\n",
       "    </tr>\n",
       "  </tbody>\n",
       "</table>\n",
       "<p>62 rows × 1 columns</p>\n",
       "</div>"
      ],
      "text/plain": [
       "                                                Links\n",
       "0   https://www.makemytrip.com/hotels/hotel-detail...\n",
       "1   https://www.makemytrip.com/hotels/hotel-detail...\n",
       "2   https://www.makemytrip.com/hotels/hotel-detail...\n",
       "3   https://www.makemytrip.com/hotels/hotel-detail...\n",
       "4   https://www.makemytrip.com/hotels/hotel-detail...\n",
       "..                                                ...\n",
       "5   https://www.makemytrip.com/hotels/hotel-detail...\n",
       "6   https://www.makemytrip.com/hotels/hotel-detail...\n",
       "7   https://www.makemytrip.com/hotels/hotel-detail...\n",
       "8   https://www.makemytrip.com/hotels/hotel-detail...\n",
       "9   https://www.makemytrip.com/hotels/hotel-detail...\n",
       "\n",
       "[62 rows x 1 columns]"
      ]
     },
     "execution_count": 108,
     "metadata": {},
     "output_type": "execute_result"
    }
   ],
   "source": [
    "df"
   ]
  },
  {
   "cell_type": "code",
   "execution_count": 109,
   "metadata": {},
   "outputs": [],
   "source": [
    "df.to_csv('MMT_OYO_Top_Cities_Hotels.csv')"
   ]
  },
  {
   "cell_type": "markdown",
   "metadata": {},
   "source": [
    "## Scraping the Reviews Now."
   ]
  },
  {
   "cell_type": "markdown",
   "metadata": {},
   "source": [
    "Each Page contains 20 reviews at max."
   ]
  },
  {
   "cell_type": "code",
   "execution_count": 12,
   "metadata": {},
   "outputs": [],
   "source": [
    "df = pd.read_csv('MMT_OYO_Top_Cities_Hotels.csv')"
   ]
  },
  {
   "cell_type": "code",
   "execution_count": 17,
   "metadata": {},
   "outputs": [],
   "source": [
    "driver.get(df.Links.iloc[7])"
   ]
  },
  {
   "cell_type": "markdown",
   "metadata": {},
   "source": [
    "### Final Ratings"
   ]
  },
  {
   "cell_type": "code",
   "execution_count": 18,
   "metadata": {},
   "outputs": [],
   "source": [
    "FINAL_RATING_XPATH = '/html/body/div[1]/div/div[2]/section[5]/div[2]/div[1]/div[1]/div[1]/div/span'"
   ]
  },
  {
   "cell_type": "code",
   "execution_count": 19,
   "metadata": {},
   "outputs": [
    {
     "data": {
      "text/plain": [
       "'4'"
      ]
     },
     "execution_count": 19,
     "metadata": {},
     "output_type": "execute_result"
    }
   ],
   "source": [
    "driver.find_element_by_xpath(FINAL_RATING_XPATH).text"
   ]
  },
  {
   "cell_type": "markdown",
   "metadata": {},
   "source": [
    "### Total Reviews"
   ]
  },
  {
   "cell_type": "code",
   "execution_count": 20,
   "metadata": {},
   "outputs": [],
   "source": [
    "TOTAL_REVIEWS_XPATH = '/html/body/div[1]/div/div[2]/section[5]/div[2]/div[1]/div[1]/div[1]/div/div/p[2]'"
   ]
  },
  {
   "cell_type": "code",
   "execution_count": 21,
   "metadata": {},
   "outputs": [
    {
     "data": {
      "text/plain": [
       "27"
      ]
     },
     "execution_count": 21,
     "metadata": {},
     "output_type": "execute_result"
    }
   ],
   "source": [
    "int(driver.find_element_by_xpath(TOTAL_REVIEWS_XPATH).text[:-7])"
   ]
  },
  {
   "cell_type": "markdown",
   "metadata": {},
   "source": [
    "### Full Reviews"
   ]
  },
  {
   "cell_type": "code",
   "execution_count": 22,
   "metadata": {},
   "outputs": [],
   "source": [
    "REVIEW_RATING_XPATH = '/html/body/div[1]/div/div[2]/section[5]/div[2]/div[{}]'"
   ]
  },
  {
   "cell_type": "code",
   "execution_count": 23,
   "metadata": {},
   "outputs": [
    {
     "data": {
      "text/plain": [
       "'4\\n51 RATINGS\\n27 REVIEWS\\n2.0\\nSecurity\\n4.1\\nRoom\\n4.0\\nHospitality\\nAll Reviews\\nRoom Quality\\nRoom Amenities\\nBathroom Hygiene\\nStaff Courtesy\\nService Quality\\nCheck-in\\nRoom Cleanliness\\nBathroom Cleanliness\\nValue for Money'"
      ]
     },
     "execution_count": 23,
     "metadata": {},
     "output_type": "execute_result"
    }
   ],
   "source": [
    "driver.find_element_by_xpath(REVIEW_RATING_XPATH.format(1)).text"
   ]
  },
  {
   "cell_type": "code",
   "execution_count": 24,
   "metadata": {},
   "outputs": [
    {
     "data": {
      "text/plain": [
       "'Good\\nModi Jayendra, Dec 15, 2019\\nGood room, good service, good location\\n2.0'"
      ]
     },
     "execution_count": 24,
     "metadata": {},
     "output_type": "execute_result"
    }
   ],
   "source": [
    "driver.find_element_by_xpath(REVIEW_RATING_XPATH.format(2)).text"
   ]
  },
  {
   "cell_type": "markdown",
   "metadata": {},
   "source": [
    ".format(1) on REVIEW_RATING_XPATH gives the Review Header\n",
    ".format(2n) gives individual review with full details as text"
   ]
  },
  {
   "cell_type": "markdown",
   "metadata": {},
   "source": [
    "## Next Page Button"
   ]
  },
  {
   "cell_type": "markdown",
   "metadata": {},
   "source": [
    "We're using CSS Selector as XPath changes for it (and a lot other parameters too)"
   ]
  },
  {
   "cell_type": "code",
   "execution_count": 25,
   "metadata": {},
   "outputs": [],
   "source": [
    "NEXT_PAGE_BUTTON = '#detpg_review_ratings_pagination > ul > li:nth-child(8) > a' \n",
    "NEXT_PAGE_BUTTON_aliter_1 = '#detpg_review_ratings_pagination > ul > li:nth-child(6) > a'\n",
    "                            "
   ]
  },
  {
   "cell_type": "code",
   "execution_count": null,
   "metadata": {},
   "outputs": [],
   "source": [
    "driver.find_element_by_css_selector(NEXT_PAGE_BUTTON).click()"
   ]
  },
  {
   "cell_type": "markdown",
   "metadata": {},
   "source": [
    "Now repeat the above process of Extracting Full Reviews again on each review page"
   ]
  },
  {
   "cell_type": "markdown",
   "metadata": {},
   "source": [
    "### Total Pages = ceil(Total_Reviews / 20)"
   ]
  },
  {
   "cell_type": "code",
   "execution_count": 27,
   "metadata": {},
   "outputs": [],
   "source": [
    "import numpy as np"
   ]
  },
  {
   "cell_type": "code",
   "execution_count": 48,
   "metadata": {},
   "outputs": [
    {
     "data": {
      "text/plain": [
       "7.0"
      ]
     },
     "execution_count": 48,
     "metadata": {},
     "output_type": "execute_result"
    }
   ],
   "source": [
    "np.ceil(138/20)"
   ]
  },
  {
   "cell_type": "code",
   "execution_count": 158,
   "metadata": {},
   "outputs": [],
   "source": [
    "total_reviews = 8\n",
    "review_on_first_page = total_reviews if total_reviews<20 else 20"
   ]
  },
  {
   "cell_type": "code",
   "execution_count": 159,
   "metadata": {},
   "outputs": [
    {
     "data": {
      "text/plain": [
       "8"
      ]
     },
     "execution_count": 159,
     "metadata": {},
     "output_type": "execute_result"
    }
   ],
   "source": [
    "review_on_first_page"
   ]
  },
  {
   "cell_type": "code",
   "execution_count": 28,
   "metadata": {},
   "outputs": [
    {
     "data": {
      "text/plain": [
       "\"Nightmare at Oyo\\nAnil Kumar, Dec 11, 2019\\nIt's my worst experience stay at this hotel, I would never recommend to anyone to stay at this hotel. No clean room, no water, it's really very terrible\\n1.0\""
      ]
     },
     "execution_count": 28,
     "metadata": {},
     "output_type": "execute_result"
    }
   ],
   "source": [
    "driver.find_element_by_css_selector('#UserReviews > div._RatingReview > div:nth-child(4)').text"
   ]
  },
  {
   "cell_type": "markdown",
   "metadata": {},
   "source": [
    "## Testing out and making the selectors on given review page"
   ]
  },
  {
   "cell_type": "code",
   "execution_count": 29,
   "metadata": {},
   "outputs": [],
   "source": [
    "Review_title_selector = '#UserReviews > div._RatingReview > div.reviewBox > div > div > p.latoBold.font18.lineHight22.greenText'\n",
    "Name_Date_selector = '#UserReviews > div._RatingReview > div.reviewBox > div > div > p.grayText.appendBottom10'\n",
    "Review_selector = '#UserReviews > div._RatingReview > div.reviewBox > div > div > p.font14.lineHight22'\n",
    "Review_rating = '#UserReviews > div._RatingReview > div.reviewBox > div > span'"
   ]
  },
  {
   "cell_type": "code",
   "execution_count": 208,
   "metadata": {},
   "outputs": [],
   "source": [
    "sel = Selector(text = driver.page_source)"
   ]
  },
  {
   "cell_type": "code",
   "execution_count": 254,
   "metadata": {},
   "outputs": [],
   "source": [
    "Ratings = sel.css(Review_rating).extract()\n",
    "for i,r in enumerate(Ratings):\n",
    "    Ratings[i] = float(r[-10:-7])"
   ]
  },
  {
   "cell_type": "code",
   "execution_count": 256,
   "metadata": {},
   "outputs": [
    {
     "data": {
      "text/plain": [
       "[2.0,\n",
       " 2.0,\n",
       " 5.0,\n",
       " 5.0,\n",
       " 5.0,\n",
       " 5.0,\n",
       " 5.0,\n",
       " 5.0,\n",
       " 2.0,\n",
       " 5.0,\n",
       " 2.0,\n",
       " 5.0,\n",
       " 4.0,\n",
       " 3.0,\n",
       " 4.0,\n",
       " 4.0,\n",
       " 3.0,\n",
       " 2.0,\n",
       " 3.0,\n",
       " 3.0]"
      ]
     },
     "execution_count": 256,
     "metadata": {},
     "output_type": "execute_result"
    }
   ],
   "source": [
    "Ratings"
   ]
  },
  {
   "cell_type": "code",
   "execution_count": 209,
   "metadata": {},
   "outputs": [],
   "source": [
    "Review_titles = sel.css(Review_title_selector).extract()\n",
    "for i,title in enumerate(Review_titles):\n",
    "    Review_titles[i] = title.replace('<p class=\"latoBold font18 lineHight22 greenText\">','').replace('</p>','')"
   ]
  },
  {
   "cell_type": "code",
   "execution_count": 210,
   "metadata": {},
   "outputs": [
    {
     "data": {
      "text/plain": [
       "['Nice location but pathetic room and food',\n",
       " 'Hotel regalia',\n",
       " \"It's really a good hotel\",\n",
       " 'Excellent Stay',\n",
       " 'Everything is nice',\n",
       " 'Very good accommodation',\n",
       " 'Location',\n",
       " 'Excellent Stay',\n",
       " 'Poor Stay',\n",
       " 'Very peaceful location',\n",
       " 'Average',\n",
       " 'Nice Neat &amp; Clean',\n",
       " 'Total value for money,home away Home Feel.',\n",
       " 'GOOD PLACE IF YOU HAVE WORK IN NEHRU PLACE',\n",
       " 'average 2 star facilities',\n",
       " 'Very friendly and helpful staff - from the porters to the management...',\n",
       " 'Was as expected',\n",
       " 'We would NOT recommend to anyone other than \"backpackers!\"',\n",
       " 'Can improve cleanliness',\n",
       " 'Average Stay']"
      ]
     },
     "execution_count": 210,
     "metadata": {},
     "output_type": "execute_result"
    }
   ],
   "source": [
    "Review_titles"
   ]
  },
  {
   "cell_type": "code",
   "execution_count": 211,
   "metadata": {},
   "outputs": [],
   "source": [
    "Reviews = sel.css(Review_selector).extract()\n",
    "for i,review in enumerate(Reviews):\n",
    "    Reviews[i] = review.replace('<p class=\"font14 lineHight22\">','').replace('</p>','')"
   ]
  },
  {
   "cell_type": "code",
   "execution_count": 212,
   "metadata": {},
   "outputs": [
    {
     "data": {
      "text/plain": [
       "[\"I stayed there for a day and at night I couldn't sleep properly due to mosquitoes and bed bugs. I have complained about this to the hotel staff but their responses aren't satisfactory.\",\n",
       " 'The hotel is in good. So the location is good but facilities in the hotel are not up to the mark. There was no water in the morning which is absolutely unacceptable.',\n",
       " 'I am very happy to stay there because all staff are very polite and always ready for serve you. Average stay there.',\n",
       " 'Nice stay, nice service and best location. Overall nice experience.',\n",
       " 'Awesome.',\n",
       " 'Previously also I stayed there and provided good service. Good location. Good staff. And really good food. Am happy.',\n",
       " \"Yesterday night I placed a order in zomato, but the was unable to find the place and I didn't provide him landmarks because the landmarks is far away from hotel.<br>I am working guy so I spend only in night, but the thing which I don't like is breakfast timing. I said to them that I have to leave early so provide me on that time at 7 AM, but denied.\",\n",
       " 'Nice stay overall good experience.',\n",
       " 'Not upto mark to our expectation, old property.',\n",
       " 'Over all everything gud and peaceful location is too good.<br>Everything good, staff good, food is also good.',\n",
       " \"Room with Bathtub but no proper facility for Mobile charging is rare in today's world.\",\n",
       " 'Clean &amp; comfortable. Hotel Staff was courteous. Good value for money.',\n",
       " 'The most attractive part of our stay was the extremely courteous and efficient .Polite,service with a smile.Within their limited facilities they made our stay a pleasant one.Great location ,peaceful calm surroundings.I will recommend with super like rating.No restaurant so as per Menu food is available which ensures the quality and fresh prepared food.Like \"Home Food\".Great Experience!!Management should take care for over all improvement.',\n",
       " 'Good place if you have work in Nehru place.',\n",
       " 'It is an average city hotel. No facilities to compare 2-3 star places.',\n",
       " 'I accidentally left some more in my room and one of the porters found it and brought it to me as I was about to leave - he is to be commended!',\n",
       " 'Hotel check-in and check-out was very smooth. Clean and quiet place.',\n",
       " 'It was NOISE noise day and night---people talking--walking down the hall; people outside talking and machines running all the time--The mattress was hard as a rock, and we had to purchase \"TOPPERS\" to put on top of the mattresses at our expense. We were given badly filtered water in a \"mineral water\" bottle! The sheets and towels were worn to a dirty, dull grey!! Everything was old and worn!! They had a arch metal detector which they had to shift to one side for me because of medical implant--however, any dishonest person could do the same thing and they would never know!!! There was no indication of how to enter this place, and we fumbled around for 10 minutes trying to find a way to enter! Too bad we finally found it!!!',\n",
       " 'It should be taken care of cleanliness.',\n",
       " 'Good one.']"
      ]
     },
     "execution_count": 212,
     "metadata": {},
     "output_type": "execute_result"
    }
   ],
   "source": [
    "Reviews"
   ]
  },
  {
   "cell_type": "code",
   "execution_count": 213,
   "metadata": {},
   "outputs": [],
   "source": [
    "Names_dates = sel.css(Name_Date_selector).extract()"
   ]
  },
  {
   "cell_type": "code",
   "execution_count": 214,
   "metadata": {},
   "outputs": [],
   "source": [
    "for i,nd in enumerate(Names_dates):\n",
    "    Names_dates[i] = nd.replace('<p class=\"grayText appendBottom10\">','').replace('</p>','')"
   ]
  },
  {
   "cell_type": "code",
   "execution_count": 215,
   "metadata": {},
   "outputs": [
    {
     "data": {
      "text/plain": [
       "['Shashank Sinha, Sep 17, 2018',\n",
       " 'Disha Khandelwal, Sep 04, 2018',\n",
       " 'Amrit Kumar, Aug 22, 2018',\n",
       " 'varun nayak, Aug 17, 2018',\n",
       " 'Annee Negi, Aug 05, 2018',\n",
       " 'Ajit Menon, Aug 01, 2018',\n",
       " 'Ahsan Ahmed, Jul 24, 2018',\n",
       " 'abhijeet sharma, Jul 18, 2018',\n",
       " 'sumeer Sharma, Jul 16, 2018',\n",
       " 'bhawna singh, Jul 02, 2018',\n",
       " 'MIHIR, Apr 22, 2018',\n",
       " 'BALRAJ SIDHU, Jun 17, 2016',\n",
       " 'Meenakshi Pai, Jun 17, 2016',\n",
       " 'Deepak Goyal, Jun 17, 2016',\n",
       " 'Prakash Panachikkuth, Jun 17, 2016',\n",
       " 'Matthew SinghToor, Jun 17, 2016',\n",
       " 'Panachikkuth Prakash, Jun 17, 2016',\n",
       " 'M ichael Bleicher, Jun 17, 2016',\n",
       " 'Anubhav Khandelwal, Jun 17, 2016',\n",
       " 'Hemachandra Singh, Dec 19, 2012']"
      ]
     },
     "execution_count": 215,
     "metadata": {},
     "output_type": "execute_result"
    }
   ],
   "source": [
    "Names_dates"
   ]
  },
  {
   "cell_type": "code",
   "execution_count": 290,
   "metadata": {},
   "outputs": [],
   "source": [
    "driver = webdriver.Chrome('/home/animesh/Meltwater Winter 2019/Web Scraping Tasks/OYO Rooms Reviews/Booking.com/chromedriver')"
   ]
  },
  {
   "cell_type": "code",
   "execution_count": 53,
   "metadata": {},
   "outputs": [],
   "source": [
    "driver.get('https://www.makemytrip.com/hotels/hotel-details/?hotelId=201812051040091117&checkin=12172019&checkout=12182019&city=CTDEL&country=IN&lat=28.500557&lng=77.185776&locusId=CTDEL&locusType=city&roomStayQualifier=2e0e&searchText=Delhi%2C%20India&seekSummaryRequired=true&type=hotel&visitorId=567da42f-26c6-4580-ae9c-e6bfa8f6eadd')"
   ]
  },
  {
   "cell_type": "code",
   "execution_count": 54,
   "metadata": {},
   "outputs": [
    {
     "data": {
      "text/plain": [
       "'52 REVIEWS'"
      ]
     },
     "execution_count": 54,
     "metadata": {},
     "output_type": "execute_result"
    }
   ],
   "source": [
    "driver.find_element_by_css_selector(\"#UserReviews > div._RatingReview > div.reviewHeader > div.headerLeft > div.userRating.yellowBg.yellowBorder > div > div > p:nth-child(2)\").text"
   ]
  },
  {
   "cell_type": "code",
   "execution_count": 36,
   "metadata": {},
   "outputs": [],
   "source": [
    "def Review_Extractor(driver):\n",
    "    '''\n",
    "    driver must have loaded the hotel link and it should be on page 1 of the revies page\n",
    "    '''\n",
    "    \n",
    "    time.sleep(1)\n",
    "    \n",
    "    try:\n",
    "        total_reviews = int(driver.find_element_by_css_selector(\"#UserReviews > div._RatingReview > div.reviewHeader > div.headerLeft > div.userRating.yellowBg.yellowBorder > div > div > p:nth-child(2)\").text[:-7])\n",
    "    except:                                                     #\"#UserReviews > div._RatingReview > div.reviewHeader > div.headerLeft > div.userRating.yellowBg.yellowBorder > div > div > p:nth-child(2)\"\n",
    "        try:\n",
    "            total_reviews = int(driver.find_element_by_css_selector(\"#UserReviews > div._RatingReview > div.reviewHeader > div.headerLeft > div.userRating.lightGreenBg.lightGreenBorder > div > div > p:nth-child(2)\").text[:-7])\n",
    "        except:                                                     \n",
    "            total_r\n",
    "    total_pages = np.ceil(total_reviews/20)\n",
    "    \n",
    "    print(\"Total Reviews on this Link: {}\".format(total_reviews))\n",
    "    \n",
    "    final_matrix = []\n",
    "    \n",
    "    for j in range(int(total_pages)):\n",
    "\n",
    "        sel = Selector(text = driver.page_source)\n",
    "        \n",
    "        Ratings = sel.css(Review_rating).extract()\n",
    "        for i,r in enumerate(Ratings):\n",
    "            Ratings[i] = float(r[-10:-7])\n",
    "\n",
    "        Review_titles = sel.css(Review_title_selector).extract()\n",
    "        for i,title in enumerate(Review_titles):\n",
    "            Review_titles[i] = title.replace('<p class=\"latoBold font18 lineHight22 greenText\">','').replace('</p>','')\n",
    "\n",
    "        Reviews = sel.css(Review_selector).extract()\n",
    "        for i,review in enumerate(Reviews):\n",
    "            Reviews[i] = review.replace('<p class=\"font14 lineHight22\">','').replace('</p>','')\n",
    "\n",
    "        Names_dates = sel.css(Name_Date_selector).extract()\n",
    "        for i,nd in enumerate(Names_dates):\n",
    "            Names_dates[i] = nd.replace('<p class=\"grayText appendBottom10\">','').replace('</p>','')\n",
    "            \n",
    "        try:\n",
    "            total_matrix = np.c_[Review_titles,Names_dates,Ratings,Reviews]\n",
    "        except Exception as e:\n",
    "            till = min(len(Review_titles),len(Names_dates),len(Ratings),len(Reviews))\n",
    "            total_matrix = np.c_[Review_titles[:till],Names_dates[:till],Ratings[:till],Reviews[:till]]\n",
    "            print(\"Continuing....\")\n",
    "            continue\n",
    "                \n",
    "                \n",
    "        final_matrix.append(total_matrix)\n",
    "        \n",
    "        print(\"Amount of Reviews' Pages Scraped: {}\".format(j+1))\n",
    "        print(\"Amount of Reviews Scraped on this Review Page: {}\".format(len(Reviews)))\n",
    "        \n",
    "        try:\n",
    "            driver.find_element_by_css_selector(NEXT_PAGE_BUTTON).click()\n",
    "        except:\n",
    "            try:\n",
    "                driver.find_element_by_css_selector(NEXT_PAGE_BUTTON_aliter_1).click()\n",
    "            except:\n",
    "                print(\"Something Weird Happended, Continuing...\")\n",
    "                \n",
    "        \n",
    "    FINAL_df = pd.DataFrame()\n",
    "    for i in range(len(final_matrix)):\n",
    "        FINAL_df = FINAL_df.append(pd.DataFrame(final_matrix[i],columns = ['Title','Name, Date','Rating','Review']),ignore_index = True)\n",
    "\n",
    "    hotel_name = driver.find_element_by_css_selector(\"#detpg_hotel_name\").text\n",
    "\n",
    "    FINAL_df[\"Hotel Name\"] = hotel_name\n",
    "        \n",
    "    \n",
    "    return FINAL_df"
   ]
  },
  {
   "cell_type": "code",
   "execution_count": 34,
   "metadata": {},
   "outputs": [
    {
     "data": {
      "text/plain": [
       "20"
      ]
     },
     "execution_count": 34,
     "metadata": {},
     "output_type": "execute_result"
    }
   ],
   "source": [
    "min(20,20,20,20)"
   ]
  },
  {
   "cell_type": "code",
   "execution_count": null,
   "metadata": {},
   "outputs": [],
   "source": [
    "FINAL = Review_Extractor(driver)"
   ]
  },
  {
   "cell_type": "code",
   "execution_count": 271,
   "metadata": {},
   "outputs": [],
   "source": [
    "FINAL_df = pd.DataFrame()\n",
    "for i in range(len(FINAL)):\n",
    "    FINAL_df = FINAL_df.append(pd.DataFrame(FINAL[i],columns = ['Title','Name, Date','Rating','Review']),ignore_index = True)\n"
   ]
  },
  {
   "cell_type": "code",
   "execution_count": 272,
   "metadata": {},
   "outputs": [
    {
     "data": {
      "text/html": [
       "<div>\n",
       "<style scoped>\n",
       "    .dataframe tbody tr th:only-of-type {\n",
       "        vertical-align: middle;\n",
       "    }\n",
       "\n",
       "    .dataframe tbody tr th {\n",
       "        vertical-align: top;\n",
       "    }\n",
       "\n",
       "    .dataframe thead th {\n",
       "        text-align: right;\n",
       "    }\n",
       "</style>\n",
       "<table border=\"1\" class=\"dataframe\">\n",
       "  <thead>\n",
       "    <tr style=\"text-align: right;\">\n",
       "      <th></th>\n",
       "      <th>Title</th>\n",
       "      <th>Name, Date</th>\n",
       "      <th>Rating</th>\n",
       "      <th>Review</th>\n",
       "    </tr>\n",
       "  </thead>\n",
       "  <tbody>\n",
       "    <tr>\n",
       "      <td>0</td>\n",
       "      <td>Nice service</td>\n",
       "      <td>Mr. Shivarudrappa, Dec 13, 2019</td>\n",
       "      <td>4.0</td>\n",
       "      <td>Hotel service is very good and the location of...</td>\n",
       "    </tr>\n",
       "    <tr>\n",
       "      <td>1</td>\n",
       "      <td>Bad</td>\n",
       "      <td>Gautham Rao, Dec 05, 2019</td>\n",
       "      <td>1.0</td>\n",
       "      <td>Terrible experience. Food was pathetic, bathro...</td>\n",
       "    </tr>\n",
       "    <tr>\n",
       "      <td>2</td>\n",
       "      <td>Leisure stay</td>\n",
       "      <td>Arpana Khatri , Dec 02, 2019</td>\n",
       "      <td>4.0</td>\n",
       "      <td>The location was very central, nice accommodat...</td>\n",
       "    </tr>\n",
       "    <tr>\n",
       "      <td>3</td>\n",
       "      <td>Nice experience</td>\n",
       "      <td>DEEPAK SHARMA, Nov 30, 2019</td>\n",
       "      <td>5.0</td>\n",
       "      <td>I booked the room for stay for my father. The ...</td>\n",
       "    </tr>\n",
       "    <tr>\n",
       "      <td>4</td>\n",
       "      <td>Safest</td>\n",
       "      <td>Deepak Ranjan Malla, Nov 30, 2019</td>\n",
       "      <td>4.0</td>\n",
       "      <td>Good clean peaceful and safe place to stay. Af...</td>\n",
       "    </tr>\n",
       "    <tr>\n",
       "      <td>...</td>\n",
       "      <td>...</td>\n",
       "      <td>...</td>\n",
       "      <td>...</td>\n",
       "      <td>...</td>\n",
       "    </tr>\n",
       "    <tr>\n",
       "      <td>135</td>\n",
       "      <td>Amazing place, nice hotel and facilities</td>\n",
       "      <td>Anil Sethi, Nov 02, 2018</td>\n",
       "      <td>5.0</td>\n",
       "      <td>Amazing experience. Recommended for everyone</td>\n",
       "    </tr>\n",
       "    <tr>\n",
       "      <td>136</td>\n",
       "      <td>Good Stay</td>\n",
       "      <td>Augustine Maben, Oct 30, 2018</td>\n",
       "      <td>4.0</td>\n",
       "      <td>Pleasant and worthy of money.</td>\n",
       "    </tr>\n",
       "    <tr>\n",
       "      <td>137</td>\n",
       "      <td>Excellent Stay</td>\n",
       "      <td>Sonu Gulfam, Oct 22, 2018</td>\n",
       "      <td>5.0</td>\n",
       "      <td>Everything was good but AC was making a noise.</td>\n",
       "    </tr>\n",
       "    <tr>\n",
       "      <td>138</td>\n",
       "      <td>Overall worth</td>\n",
       "      <td>Indu Bhardwaj, Oct 19, 2018</td>\n",
       "      <td>4.0</td>\n",
       "      <td>I just have to say it's good location.&lt;br&gt;It's...</td>\n",
       "    </tr>\n",
       "    <tr>\n",
       "      <td>139</td>\n",
       "      <td>Excellent value for money</td>\n",
       "      <td>Nishant Kapoor, Oct 16, 2018</td>\n",
       "      <td>5.0</td>\n",
       "      <td>Liked every bit. Courteous staff, neat and cle...</td>\n",
       "    </tr>\n",
       "  </tbody>\n",
       "</table>\n",
       "<p>140 rows × 4 columns</p>\n",
       "</div>"
      ],
      "text/plain": [
       "                                        Title  \\\n",
       "0                                Nice service   \n",
       "1                                         Bad   \n",
       "2                                Leisure stay   \n",
       "3                             Nice experience   \n",
       "4                                      Safest   \n",
       "..                                        ...   \n",
       "135  Amazing place, nice hotel and facilities   \n",
       "136                                 Good Stay   \n",
       "137                            Excellent Stay   \n",
       "138                             Overall worth   \n",
       "139                 Excellent value for money   \n",
       "\n",
       "                            Name, Date Rating  \\\n",
       "0      Mr. Shivarudrappa, Dec 13, 2019    4.0   \n",
       "1            Gautham Rao, Dec 05, 2019    1.0   \n",
       "2         Arpana Khatri , Dec 02, 2019    4.0   \n",
       "3          DEEPAK SHARMA, Nov 30, 2019    5.0   \n",
       "4    Deepak Ranjan Malla, Nov 30, 2019    4.0   \n",
       "..                                 ...    ...   \n",
       "135           Anil Sethi, Nov 02, 2018    5.0   \n",
       "136      Augustine Maben, Oct 30, 2018    4.0   \n",
       "137          Sonu Gulfam, Oct 22, 2018    5.0   \n",
       "138        Indu Bhardwaj, Oct 19, 2018    4.0   \n",
       "139       Nishant Kapoor, Oct 16, 2018    5.0   \n",
       "\n",
       "                                                Review  \n",
       "0    Hotel service is very good and the location of...  \n",
       "1    Terrible experience. Food was pathetic, bathro...  \n",
       "2    The location was very central, nice accommodat...  \n",
       "3    I booked the room for stay for my father. The ...  \n",
       "4    Good clean peaceful and safe place to stay. Af...  \n",
       "..                                                 ...  \n",
       "135       Amazing experience. Recommended for everyone  \n",
       "136                      Pleasant and worthy of money.  \n",
       "137     Everything was good but AC was making a noise.  \n",
       "138  I just have to say it's good location.<br>It's...  \n",
       "139  Liked every bit. Courteous staff, neat and cle...  \n",
       "\n",
       "[140 rows x 4 columns]"
      ]
     },
     "execution_count": 272,
     "metadata": {},
     "output_type": "execute_result"
    }
   ],
   "source": [
    "FINAL_df"
   ]
  },
  {
   "cell_type": "code",
   "execution_count": 278,
   "metadata": {},
   "outputs": [
    {
     "data": {
      "text/plain": [
       "'OYO 12075 Hotel Regalia Retreat'"
      ]
     },
     "execution_count": 278,
     "metadata": {},
     "output_type": "execute_result"
    }
   ],
   "source": [
    "driver.set_page_load_timeout(15)"
   ]
  },
  {
   "cell_type": "markdown",
   "metadata": {},
   "source": [
    "### Putting all the strings together in place now."
   ]
  },
  {
   "cell_type": "code",
   "execution_count": 119,
   "metadata": {},
   "outputs": [],
   "source": [
    "def Extract_Reviews_from_links(csv_path,driver):\n",
    "    links_df = pd.read_csv(csv_path)\n",
    "    \n",
    "    try:\n",
    "        driver = webdriver.Chrome('/home/animesh/Meltwater Winter 2019/Web Scraping Tasks/OYO Rooms Reviews/Booking.com/chromedriver')\n",
    "    except TimeoutError as te:\n",
    "        print(te)\n",
    "        inp = input(\"Should it continue? on top\")\n",
    "        if((inp == 'y') or (inp == \"Y\")):\n",
    "            print(\"Continuing...\")\n",
    "        else:\n",
    "            return dataframe\n",
    "    dataframe = pd.DataFrame()\n",
    "    for i in range(len(links_df)):\n",
    "        \n",
    "        driver.set_page_load_timeout(7)\n",
    "        try:\n",
    "            driver.get(links_df.Links.iloc[i+62])\n",
    "        except :\n",
    "            print(\" Backend Error Encountered...\")\n",
    "            inp = input(\"Should it continue?\")\n",
    "            if((inp == 'y') or (inp == \"Y\")):\n",
    "                print(\"Continuing...\")\n",
    "                continue\n",
    "            else:\n",
    "                return dataframe\n",
    "            \n",
    "        time.sleep(1)\n",
    "        \n",
    "        print(\"On the link: {}\".format(i+62))\n",
    "        \n",
    "        try:\n",
    "            \n",
    "            FINAL_df = Review_Extractor(driver)\n",
    "        except Exception as e:\n",
    "            print(e)\n",
    "            print(\"Some Unexpected Problem has occured, please contact the relevant person.\")\n",
    "            print(\"                 Meltwater        \")\n",
    "            time.sleep(2)\n",
    "            print(\"             Outside Insight      \")\n",
    "            time.sleep(1)\n",
    "            return dataframe\n",
    "        \n",
    "        \n",
    "        \n",
    "        dataframe = dataframe.append(FINAL_df, ignore_index = True)\n",
    "        \n",
    "    return dataframe\n",
    "    \n",
    "        \n",
    "        "
   ]
  },
  {
   "cell_type": "code",
   "execution_count": 118,
   "metadata": {},
   "outputs": [],
   "source": [
    "driver = webdriver.Chrome(executable_path='/home/animesh/Meltwater Winter 2019/Web Scraping Tasks/OYO Rooms Reviews/Booking.com/chromedriver')"
   ]
  },
  {
   "cell_type": "code",
   "execution_count": 120,
   "metadata": {},
   "outputs": [
    {
     "name": "stdout",
     "output_type": "stream",
     "text": [
      " Backend Error Encountered...\n"
     ]
    },
    {
     "name": "stdin",
     "output_type": "stream",
     "text": [
      "Should it continue? n\n"
     ]
    }
   ],
   "source": [
    "ALL_REVIEWS = Extract_Reviews_from_links('MMT_OYO_Top_Cities_Hotels.csv',driver)"
   ]
  },
  {
   "cell_type": "code",
   "execution_count": 110,
   "metadata": {},
   "outputs": [],
   "source": [
    "ALL_REVIEWS.to_csv(\"till_56-61.csv\")"
   ]
  },
  {
   "cell_type": "code",
   "execution_count": 109,
   "metadata": {},
   "outputs": [
    {
     "data": {
      "text/html": [
       "<div>\n",
       "<style scoped>\n",
       "    .dataframe tbody tr th:only-of-type {\n",
       "        vertical-align: middle;\n",
       "    }\n",
       "\n",
       "    .dataframe tbody tr th {\n",
       "        vertical-align: top;\n",
       "    }\n",
       "\n",
       "    .dataframe thead th {\n",
       "        text-align: right;\n",
       "    }\n",
       "</style>\n",
       "<table border=\"1\" class=\"dataframe\">\n",
       "  <thead>\n",
       "    <tr style=\"text-align: right;\">\n",
       "      <th></th>\n",
       "      <th>Title</th>\n",
       "      <th>Name, Date</th>\n",
       "      <th>Rating</th>\n",
       "      <th>Review</th>\n",
       "      <th>Hotel Name</th>\n",
       "    </tr>\n",
       "  </thead>\n",
       "  <tbody>\n",
       "    <tr>\n",
       "      <td>0</td>\n",
       "      <td>Good rooms in</td>\n",
       "      <td>Vineesh Vs, Dec 14, 2019</td>\n",
       "      <td>4.0</td>\n",
       "      <td>Is great room and good room service. Staff ind...</td>\n",
       "      <td>OYO 15637 Transit Express</td>\n",
       "    </tr>\n",
       "    <tr>\n",
       "      <td>1</td>\n",
       "      <td>Excellent Stay</td>\n",
       "      <td>Amit Mandal, Dec 07, 2019</td>\n",
       "      <td>5.0</td>\n",
       "      <td>Location is good. The staff were very friendly...</td>\n",
       "      <td>OYO 15637 Transit Express</td>\n",
       "    </tr>\n",
       "    <tr>\n",
       "      <td>2</td>\n",
       "      <td>Good</td>\n",
       "      <td>partha das, Dec 04, 2019</td>\n",
       "      <td>5.0</td>\n",
       "      <td>Excellent will visit soon and recommend</td>\n",
       "      <td>OYO 15637 Transit Express</td>\n",
       "    </tr>\n",
       "    <tr>\n",
       "      <td>3</td>\n",
       "      <td>Nice staff</td>\n",
       "      <td>rakesh sharma, Dec 02, 2019</td>\n",
       "      <td>5.0</td>\n",
       "      <td>Everything was good, nice room, nice staff.</td>\n",
       "      <td>OYO 15637 Transit Express</td>\n",
       "    </tr>\n",
       "    <tr>\n",
       "      <td>4</td>\n",
       "      <td>Oyo transit experience</td>\n",
       "      <td>Saniyya Mujeeb, Nov 30, 2019</td>\n",
       "      <td>5.0</td>\n",
       "      <td>Well kept and well maintained room and hotel. ...</td>\n",
       "      <td>OYO 15637 Transit Express</td>\n",
       "    </tr>\n",
       "    <tr>\n",
       "      <td>...</td>\n",
       "      <td>...</td>\n",
       "      <td>...</td>\n",
       "      <td>...</td>\n",
       "      <td>...</td>\n",
       "      <td>...</td>\n",
       "    </tr>\n",
       "    <tr>\n",
       "      <td>439</td>\n",
       "      <td>Good</td>\n",
       "      <td>Avinash Kumar, Jul 04, 2018</td>\n",
       "      <td>4.0</td>\n",
       "      <td>The location is quote difficult to find but so...</td>\n",
       "      <td>OYO 10921 Stay INN</td>\n",
       "    </tr>\n",
       "    <tr>\n",
       "      <td>440</td>\n",
       "      <td>Great hotel</td>\n",
       "      <td>kunamalla pramod, Jun 09, 2018</td>\n",
       "      <td>5.0</td>\n",
       "      <td>Good location and in a very peaceful neighborh...</td>\n",
       "      <td>OYO 10921 Stay INN</td>\n",
       "    </tr>\n",
       "    <tr>\n",
       "      <td>441</td>\n",
       "      <td>Nice stay and spacious rooms</td>\n",
       "      <td>Gourab Laskar, Jul 31, 2018</td>\n",
       "      <td>5.0</td>\n",
       "      <td>Spacious rooms. Nice stay and good location.</td>\n",
       "      <td>OYO 10921 Stay INN</td>\n",
       "    </tr>\n",
       "    <tr>\n",
       "      <td>442</td>\n",
       "      <td>Good</td>\n",
       "      <td>Avinash Kumar, Jul 04, 2018</td>\n",
       "      <td>4.0</td>\n",
       "      <td>The location is quote difficult to find but so...</td>\n",
       "      <td>OYO 10921 Stay INN</td>\n",
       "    </tr>\n",
       "    <tr>\n",
       "      <td>443</td>\n",
       "      <td>Great hotel</td>\n",
       "      <td>kunamalla pramod, Jun 09, 2018</td>\n",
       "      <td>5.0</td>\n",
       "      <td>Good location and in a very peaceful neighborh...</td>\n",
       "      <td>OYO 10921 Stay INN</td>\n",
       "    </tr>\n",
       "  </tbody>\n",
       "</table>\n",
       "<p>444 rows × 5 columns</p>\n",
       "</div>"
      ],
      "text/plain": [
       "                            Title                      Name, Date Rating  \\\n",
       "0                   Good rooms in        Vineesh Vs, Dec 14, 2019    4.0   \n",
       "1                  Excellent Stay       Amit Mandal, Dec 07, 2019    5.0   \n",
       "2                            Good        partha das, Dec 04, 2019    5.0   \n",
       "3                      Nice staff     rakesh sharma, Dec 02, 2019    5.0   \n",
       "4          Oyo transit experience    Saniyya Mujeeb, Nov 30, 2019    5.0   \n",
       "..                            ...                             ...    ...   \n",
       "439                          Good     Avinash Kumar, Jul 04, 2018    4.0   \n",
       "440                   Great hotel  kunamalla pramod, Jun 09, 2018    5.0   \n",
       "441  Nice stay and spacious rooms     Gourab Laskar, Jul 31, 2018    5.0   \n",
       "442                          Good     Avinash Kumar, Jul 04, 2018    4.0   \n",
       "443                   Great hotel  kunamalla pramod, Jun 09, 2018    5.0   \n",
       "\n",
       "                                                Review  \\\n",
       "0    Is great room and good room service. Staff ind...   \n",
       "1    Location is good. The staff were very friendly...   \n",
       "2              Excellent will visit soon and recommend   \n",
       "3          Everything was good, nice room, nice staff.   \n",
       "4    Well kept and well maintained room and hotel. ...   \n",
       "..                                                 ...   \n",
       "439  The location is quote difficult to find but so...   \n",
       "440  Good location and in a very peaceful neighborh...   \n",
       "441       Spacious rooms. Nice stay and good location.   \n",
       "442  The location is quote difficult to find but so...   \n",
       "443  Good location and in a very peaceful neighborh...   \n",
       "\n",
       "                    Hotel Name  \n",
       "0    OYO 15637 Transit Express  \n",
       "1    OYO 15637 Transit Express  \n",
       "2    OYO 15637 Transit Express  \n",
       "3    OYO 15637 Transit Express  \n",
       "4    OYO 15637 Transit Express  \n",
       "..                         ...  \n",
       "439         OYO 10921 Stay INN  \n",
       "440         OYO 10921 Stay INN  \n",
       "441         OYO 10921 Stay INN  \n",
       "442         OYO 10921 Stay INN  \n",
       "443         OYO 10921 Stay INN  \n",
       "\n",
       "[444 rows x 5 columns]"
      ]
     },
     "execution_count": 109,
     "metadata": {},
     "output_type": "execute_result"
    }
   ],
   "source": [
    "ALL_REVIEWS"
   ]
  },
  {
   "cell_type": "code",
   "execution_count": 57,
   "metadata": {},
   "outputs": [
    {
     "name": "stdin",
     "output_type": "stream",
     "text": [
      "wow 1232332werf\n"
     ]
    }
   ],
   "source": [
    "start = time.time()\n",
    "x= input(\"wow\")\n",
    "end_time = time.time()-start"
   ]
  },
  {
   "cell_type": "code",
   "execution_count": 58,
   "metadata": {},
   "outputs": [
    {
     "data": {
      "text/plain": [
       "3.532566785812378"
      ]
     },
     "execution_count": 58,
     "metadata": {},
     "output_type": "execute_result"
    }
   ],
   "source": [
    "end_time"
   ]
  },
  {
   "cell_type": "code",
   "execution_count": 73,
   "metadata": {},
   "outputs": [
    {
     "data": {
      "text/plain": [
       "\u001b[0;31mSignature:\u001b[0m \u001b[0mdriver\u001b[0m\u001b[0;34m.\u001b[0m\u001b[0mset_page_load_timeout\u001b[0m\u001b[0;34m(\u001b[0m\u001b[0mtime_to_wait\u001b[0m\u001b[0;34m)\u001b[0m\u001b[0;34m\u001b[0m\u001b[0;34m\u001b[0m\u001b[0m\n",
       "\u001b[0;31mDocstring:\u001b[0m\n",
       "Set the amount of time to wait for a page load to complete\n",
       "   before throwing an error.\n",
       "\n",
       ":Args:\n",
       " - time_to_wait: The amount of time to wait\n",
       "\n",
       ":Usage:\n",
       "    driver.set_page_load_timeout(30)\n",
       "\u001b[0;31mFile:\u001b[0m      ~/anaconda3/lib/python3.7/site-packages/selenium/webdriver/remote/webdriver.py\n",
       "\u001b[0;31mType:\u001b[0m      method\n"
      ]
     },
     "metadata": {},
     "output_type": "display_data"
    }
   ],
   "source": []
  },
  {
   "cell_type": "code",
   "execution_count": 121,
   "metadata": {},
   "outputs": [],
   "source": [
    "links_df = pd.read_csv('MMT_OYO_Top_Cities_Hotels.csv')"
   ]
  },
  {
   "cell_type": "code",
   "execution_count": 123,
   "metadata": {},
   "outputs": [
    {
     "data": {
      "text/plain": [
       "62"
      ]
     },
     "execution_count": 123,
     "metadata": {},
     "output_type": "execute_result"
    }
   ],
   "source": [
    "len(links_df)"
   ]
  },
  {
   "cell_type": "markdown",
   "metadata": {},
   "source": [
    "### Appending them all"
   ]
  },
  {
   "cell_type": "code",
   "execution_count": 128,
   "metadata": {},
   "outputs": [],
   "source": [
    "files = [file for file in os.listdir('/home/animesh/Meltwater Winter 2019/Web Scraping Tasks/OYO Rooms Reviews/MakeMyTrip.com') if file[:4] == 'till']"
   ]
  },
  {
   "cell_type": "code",
   "execution_count": 129,
   "metadata": {},
   "outputs": [
    {
     "data": {
      "text/plain": [
       "['till 099 Townhouse.csv',\n",
       " 'till_Flagship_568_Bandra.csv',\n",
       " 'till_16545_Hotel_Kant_31.csv',\n",
       " 'till_14566_Sunshine.csv',\n",
       " 'till_021_Bombay_Exhib_Centre.csv',\n",
       " 'till_56-61.csv',\n",
       " 'till_2105_Hotel_Royal_sheraton_39-44.csv',\n",
       " 'till_2105_Hotel_Royal_sheraton_45-48.csv',\n",
       " 'till_49-55.csv']"
      ]
     },
     "execution_count": 129,
     "metadata": {},
     "output_type": "execute_result"
    }
   ],
   "source": [
    "files"
   ]
  },
  {
   "cell_type": "code",
   "execution_count": 134,
   "metadata": {},
   "outputs": [
    {
     "name": "stdout",
     "output_type": "stream",
     "text": [
      "340\n",
      "774\n",
      "400\n",
      "674\n",
      "400\n",
      "444\n",
      "541\n",
      "140\n",
      "856\n"
     ]
    }
   ],
   "source": [
    "df = pd.DataFrame()\n",
    "for f in files:\n",
    "    wtf = pd.read_csv(f)\n",
    "    df = df.append(wtf, ignore_index = True)\n",
    "    print(len(wtf))"
   ]
  },
  {
   "cell_type": "code",
   "execution_count": 136,
   "metadata": {},
   "outputs": [],
   "source": [
    "df.to_csv(\"Top Cities MMT OYO Reviews.csv\")"
   ]
  },
  {
   "cell_type": "code",
   "execution_count": 138,
   "metadata": {},
   "outputs": [
    {
     "data": {
      "text/html": [
       "<div>\n",
       "<style scoped>\n",
       "    .dataframe tbody tr th:only-of-type {\n",
       "        vertical-align: middle;\n",
       "    }\n",
       "\n",
       "    .dataframe tbody tr th {\n",
       "        vertical-align: top;\n",
       "    }\n",
       "\n",
       "    .dataframe thead th {\n",
       "        text-align: right;\n",
       "    }\n",
       "</style>\n",
       "<table border=\"1\" class=\"dataframe\">\n",
       "  <thead>\n",
       "    <tr style=\"text-align: right;\">\n",
       "      <th></th>\n",
       "      <th>Hotel Name</th>\n",
       "      <th>Name, Date</th>\n",
       "      <th>Rating</th>\n",
       "      <th>Review</th>\n",
       "      <th>Title</th>\n",
       "      <th>Unnamed: 0</th>\n",
       "    </tr>\n",
       "  </thead>\n",
       "  <tbody>\n",
       "    <tr>\n",
       "      <td>0</td>\n",
       "      <td>OYO 12075 Hotel Regalia Retreat</td>\n",
       "      <td>Mr. Shivarudrappa, Dec 13, 2019</td>\n",
       "      <td>4.0</td>\n",
       "      <td>Hotel service is very good and the location of...</td>\n",
       "      <td>Nice service</td>\n",
       "      <td>0</td>\n",
       "    </tr>\n",
       "    <tr>\n",
       "      <td>1</td>\n",
       "      <td>OYO 12075 Hotel Regalia Retreat</td>\n",
       "      <td>Gautham Rao, Dec 05, 2019</td>\n",
       "      <td>1.0</td>\n",
       "      <td>Terrible experience. Food was pathetic, bathro...</td>\n",
       "      <td>Bad</td>\n",
       "      <td>1</td>\n",
       "    </tr>\n",
       "    <tr>\n",
       "      <td>2</td>\n",
       "      <td>OYO 12075 Hotel Regalia Retreat</td>\n",
       "      <td>Arpana Khatri , Dec 02, 2019</td>\n",
       "      <td>4.0</td>\n",
       "      <td>The location was very central, nice accommodat...</td>\n",
       "      <td>Leisure stay</td>\n",
       "      <td>2</td>\n",
       "    </tr>\n",
       "    <tr>\n",
       "      <td>3</td>\n",
       "      <td>OYO 12075 Hotel Regalia Retreat</td>\n",
       "      <td>DEEPAK SHARMA, Nov 30, 2019</td>\n",
       "      <td>5.0</td>\n",
       "      <td>I booked the room for stay for my father. The ...</td>\n",
       "      <td>Nice experience</td>\n",
       "      <td>3</td>\n",
       "    </tr>\n",
       "    <tr>\n",
       "      <td>4</td>\n",
       "      <td>OYO 12075 Hotel Regalia Retreat</td>\n",
       "      <td>Deepak Ranjan Malla, Nov 30, 2019</td>\n",
       "      <td>4.0</td>\n",
       "      <td>Good clean peaceful and safe place to stay. Af...</td>\n",
       "      <td>Safest</td>\n",
       "      <td>4</td>\n",
       "    </tr>\n",
       "    <tr>\n",
       "      <td>...</td>\n",
       "      <td>...</td>\n",
       "      <td>...</td>\n",
       "      <td>...</td>\n",
       "      <td>...</td>\n",
       "      <td>...</td>\n",
       "      <td>...</td>\n",
       "    </tr>\n",
       "    <tr>\n",
       "      <td>4564</td>\n",
       "      <td>OYO Townhouse 263 The Sky Airport</td>\n",
       "      <td>Amit Mitra, Jul 15, 2019</td>\n",
       "      <td>4.0</td>\n",
       "      <td>Fair enough. A bit noisy. But overall ok.</td>\n",
       "      <td>Simple</td>\n",
       "      <td>851</td>\n",
       "    </tr>\n",
       "    <tr>\n",
       "      <td>4565</td>\n",
       "      <td>OYO Townhouse 263 The Sky Airport</td>\n",
       "      <td>Konika Anand, Jul 15, 2019</td>\n",
       "      <td>4.0</td>\n",
       "      <td>Good stay, clean place, comfortable, friendly ...</td>\n",
       "      <td>Good Stay</td>\n",
       "      <td>852</td>\n",
       "    </tr>\n",
       "    <tr>\n",
       "      <td>4566</td>\n",
       "      <td>OYO Townhouse 263 The Sky Airport</td>\n",
       "      <td>Vipin Ravi, Jun 18, 2019</td>\n",
       "      <td>5.0</td>\n",
       "      <td>A new hotel, close to Airport and with parking...</td>\n",
       "      <td>Very close to Airport with parking space</td>\n",
       "      <td>853</td>\n",
       "    </tr>\n",
       "    <tr>\n",
       "      <td>4567</td>\n",
       "      <td>OYO Townhouse 263 The Sky Airport</td>\n",
       "      <td>Aditya Gangrade, Jun 11, 2019</td>\n",
       "      <td>3.0</td>\n",
       "      <td>They have big and small rooms. They will try t...</td>\n",
       "      <td>Check The rooms before check in</td>\n",
       "      <td>854</td>\n",
       "    </tr>\n",
       "    <tr>\n",
       "      <td>4568</td>\n",
       "      <td>OYO Townhouse 263 The Sky Airport</td>\n",
       "      <td>Aditya Gangrade, Jun 08, 2019</td>\n",
       "      <td>4.0</td>\n",
       "      <td>The hotel on is rated 2 stars. I have Idea wha...</td>\n",
       "      <td>Nice location and clean rooms</td>\n",
       "      <td>855</td>\n",
       "    </tr>\n",
       "  </tbody>\n",
       "</table>\n",
       "<p>4569 rows × 6 columns</p>\n",
       "</div>"
      ],
      "text/plain": [
       "                             Hotel Name                         Name, Date  \\\n",
       "0       OYO 12075 Hotel Regalia Retreat    Mr. Shivarudrappa, Dec 13, 2019   \n",
       "1       OYO 12075 Hotel Regalia Retreat          Gautham Rao, Dec 05, 2019   \n",
       "2       OYO 12075 Hotel Regalia Retreat       Arpana Khatri , Dec 02, 2019   \n",
       "3       OYO 12075 Hotel Regalia Retreat        DEEPAK SHARMA, Nov 30, 2019   \n",
       "4       OYO 12075 Hotel Regalia Retreat  Deepak Ranjan Malla, Nov 30, 2019   \n",
       "...                                 ...                                ...   \n",
       "4564  OYO Townhouse 263 The Sky Airport           Amit Mitra, Jul 15, 2019   \n",
       "4565  OYO Townhouse 263 The Sky Airport         Konika Anand, Jul 15, 2019   \n",
       "4566  OYO Townhouse 263 The Sky Airport           Vipin Ravi, Jun 18, 2019   \n",
       "4567  OYO Townhouse 263 The Sky Airport      Aditya Gangrade, Jun 11, 2019   \n",
       "4568  OYO Townhouse 263 The Sky Airport      Aditya Gangrade, Jun 08, 2019   \n",
       "\n",
       "      Rating                                             Review  \\\n",
       "0        4.0  Hotel service is very good and the location of...   \n",
       "1        1.0  Terrible experience. Food was pathetic, bathro...   \n",
       "2        4.0  The location was very central, nice accommodat...   \n",
       "3        5.0  I booked the room for stay for my father. The ...   \n",
       "4        4.0  Good clean peaceful and safe place to stay. Af...   \n",
       "...      ...                                                ...   \n",
       "4564     4.0          Fair enough. A bit noisy. But overall ok.   \n",
       "4565     4.0  Good stay, clean place, comfortable, friendly ...   \n",
       "4566     5.0  A new hotel, close to Airport and with parking...   \n",
       "4567     3.0  They have big and small rooms. They will try t...   \n",
       "4568     4.0  The hotel on is rated 2 stars. I have Idea wha...   \n",
       "\n",
       "                                         Title  Unnamed: 0  \n",
       "0                                 Nice service           0  \n",
       "1                                          Bad           1  \n",
       "2                                 Leisure stay           2  \n",
       "3                              Nice experience           3  \n",
       "4                                       Safest           4  \n",
       "...                                        ...         ...  \n",
       "4564                                    Simple         851  \n",
       "4565                                 Good Stay         852  \n",
       "4566  Very close to Airport with parking space         853  \n",
       "4567           Check The rooms before check in         854  \n",
       "4568             Nice location and clean rooms         855  \n",
       "\n",
       "[4569 rows x 6 columns]"
      ]
     },
     "execution_count": 138,
     "metadata": {},
     "output_type": "execute_result"
    }
   ],
   "source": [
    "df"
   ]
  },
  {
   "cell_type": "code",
   "execution_count": null,
   "metadata": {},
   "outputs": [],
   "source": []
  }
 ],
 "metadata": {
  "kernelspec": {
   "display_name": "Python 3",
   "language": "python",
   "name": "python3"
  },
  "language_info": {
   "codemirror_mode": {
    "name": "ipython",
    "version": 3
   },
   "file_extension": ".py",
   "mimetype": "text/x-python",
   "name": "python",
   "nbconvert_exporter": "python",
   "pygments_lexer": "ipython3",
   "version": "3.7.4"
  }
 },
 "nbformat": 4,
 "nbformat_minor": 4
}
